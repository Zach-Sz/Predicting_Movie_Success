{
 "cells": [
  {
   "cell_type": "markdown",
   "metadata": {},
   "source": [
    "# Predicting Movie Success Using Machine Learning\n",
    "#### By Zachary Szentimrey, Adesh Kadambi and Rylee Thompson"
   ]
  },
  {
   "cell_type": "markdown",
   "metadata": {},
   "source": [
    "## Introduction\n",
    "\n",
    "The purpose of this notebook is to create a model or models which can predict how successful a movie will be. We are defining success as how much money a movie makes and how many Academy Award wins/ nominations they have. The more money and awards, the greater amount of success. The models will be developped using a regression model to determine the amount of money made and a classification model for number of Oscar wins. The accuracy of these models will be found which wll be used to validate the model(s)."
   ]
  },
  {
   "cell_type": "markdown",
   "metadata": {},
   "source": [
    "## Methodology and Results\n",
    "\n",
    "In order to predict movie success, data needs to be collected in order to both create the model and test the model. IMDb website will be used to scrape movie data information pertaining to genre, actors involved and parental rating just to name a few. Additionally, a .csv database file will be used to collect Oscar wins/nomination information for actors and directors as this information is not easily accessible on IMDb. Scraping will be performed using Beautiful Soup and scikit-learn will be used to build the models."
   ]
  },
  {
   "cell_type": "markdown",
   "metadata": {},
   "source": [
    "The below libraries are used to perform data collection, database manipulation and to build the models. As well, random seeds are selected to ensure approximately the same outcome always occurs (predictable results)."
   ]
  },
  {
   "cell_type": "code",
   "execution_count": 1,
   "metadata": {},
   "outputs": [],
   "source": [
    "from requests import get\n",
    "import pandas as pd\n",
    "from bs4 import BeautifulSoup\n",
    "import numpy as np\n",
    "import matplotlib.pyplot as plt\n",
    "from sklearn import linear_model\n",
    "from numpy import array\n",
    "from numpy import argmax\n",
    "from operator import add\n",
    "from mpl_toolkits.mplot3d import Axes3D\n",
    "\n",
    "from sklearn.preprocessing import normalize\n",
    "from sklearn.decomposition import PCA\n",
    "from sklearn.preprocessing import StandardScaler\n",
    "from sklearn import metrics\n",
    "from sklearn.model_selection import train_test_split\n",
    "from sklearn import preprocessing\n",
    "from sklearn.neural_network import MLPRegressor\n",
    "from sklearn.model_selection import GridSearchCV\n",
    "from sklearn.model_selection import RandomizedSearchCV\n",
    "from sklearn.naive_bayes import GaussianNB\n",
    "from sklearn.tree import DecisionTreeRegressor\n",
    "from sklearn import svm\n",
    "from sklearn import metrics\n",
    "from sklearn import svm, datasets\n",
    "from sklearn.metrics import confusion_matrix\n",
    "import random\n",
    "import numpy.random\n",
    "numpy.random.seed(5)\n",
    "random.seed(5)"
   ]
  },
  {
   "cell_type": "markdown",
   "metadata": {},
   "source": [
    "### Working with the Oscar Database "
   ]
  },
  {
   "cell_type": "markdown",
   "metadata": {},
   "source": [
    "Following code access the .csv database file attached and preconditions the database in order to gather the data into dictionaries. Of all the Oscar categories that exist, the actors/actresses and director awards are considered the most important as this information is easy to scrape on IMDb. The dictionaries are based on the following categories.\n",
    "\n",
    "- actorAwards = awards that can be recieved directly by an actor/actress\n",
    "- directorAwards = awards that can be received directly by a director\n",
    "- movieAwards = awards that directors and actors can directly influence"
   ]
  },
  {
   "cell_type": "code",
   "execution_count": 4,
   "metadata": {},
   "outputs": [],
   "source": [
    "actorAwards = ['Actor', 'Actor in a Supporting Role', 'Actress', 'Actress in a Supporting Role', 'Actor in a Leading Role', \n",
    "               'Actress in a Leading Role']\n",
    "\n",
    "directorAwards = ['Directing'] #For this dataset that name of the director is in the 'Film' category\n",
    "\n",
    "movieAwards = ['Best Motion Picture', 'Outstanding Motion Picture', 'Documentary', 'Documentary (Feature)', \n",
    "               'Documentary (Short Subject)', 'Short Subject (Cartoon)', 'Short Subject (One Reel)',\n",
    "               'Short Film (Animated)', 'Short Film (Live Action)', 'Best Picture', 'Animated Feature Film'] #Movie name is in the 'name' category\n",
    "\n",
    "#Awards like writing, screenplay, production, etc are saved under other awards as the actor and director do not\n",
    "#influence them as directly (or at all) as the ones above\n",
    "\n",
    "OscarRead = pd.read_csv('OscarDatabase.csv') #read the database\n",
    "yearCSV = OscarRead[\"Year\"] #The year the movie was released\n",
    "awardCSV = OscarRead[\"Award\"] #The name of the award received/nominated for\n",
    "winnerCSV = OscarRead[\"Winner\"] #If the entry won or not\n",
    "\n",
    "resultsCSV = winnerCSV.copy() #Create a copy to edit\n",
    "resultsCSV[resultsCSV != 1] = 0 #Original CSV has a '1' for winner, and NaN for a nomination - convert NaN to '0'\n",
    "\n",
    "nameCSV = OscarRead[\"Name\"] \n",
    "filmCSV = OscarRead[\"Film\"]\n",
    "\n",
    "win = 1\n",
    "nomination = 0\n",
    "\n",
    "def getDict(awards, result = win, name = nameCSV, film = filmCSV, starAwards = True, otherAwards = False):\n",
    "    \n",
    "    Dict = {}\n",
    "    for i in range(len(yearCSV)):\n",
    "        if otherAwards == False and awardCSV[i] not in awards or resultsCSV[i] != result:\n",
    "            continue\n",
    "        elif otherAwards == True and awardCSV[i] in awards or resultsCSV[i] != result:\n",
    "            continue\n",
    "        if starAwards == False:\n",
    "            try:\n",
    "                try:\n",
    "                    Dict[yearCSV[i] + 1][name[i]] += 1 #If the movie wins multiple awards in a year\n",
    "                except:\n",
    "                    Dict[yearCSV[i] + 1][name[i]] = 1 #Set the value for movie to one if the year is already in the dictionary\n",
    "            except:\n",
    "                Dict[yearCSV[i] + 1] = {} #if year is not in dictionary yet then create it\n",
    "                Dict[yearCSV[i] + 1][name[i]] = 1 #set the value to one\n",
    "                #Above code uses year + 1 for the key as the original database has the release year of the movie stored, \n",
    "                #not the year of the oscars\n",
    "        else:\n",
    "            try:\n",
    "                try:\n",
    "                    Dict[yearCSV[i] + 1][name[i]][1] += 1\n",
    "                except:\n",
    "                    Dict[yearCSV[i] + 1][name[i]] = film[i], 1\n",
    "            except:\n",
    "                Dict[yearCSV[i] + 1] = {}\n",
    "                Dict[yearCSV[i] + 1][name[i]] = film[i], 1            \n",
    "    return Dict"
   ]
  },
  {
   "cell_type": "markdown",
   "metadata": {},
   "source": [
    "Creates a dictionary which contains Oscar wins and nominations for every Oscar that has ever been awarded (1935-2018).If a movie/actor/director wins an award, it is only saved as a winner and will not have an entry for the nomination it received for that award. Displayed from this data is the 1950 oscar winners and oscar nominees. This is to see if the databases are accurate. Additionally, the 2018 oscar winners for awards other than acting, directing and best film are listed."
   ]
  },
  {
   "cell_type": "code",
   "execution_count": 5,
   "metadata": {},
   "outputs": [
    {
     "name": "stdout",
     "output_type": "stream",
     "text": [
      "1950 oscar winners (acting) are: {'José Ferrer': ('Cyrano de Bergerac', 1), 'George Sanders': ('All about Eve', 1), 'Judy Holliday': ('Born Yesterday', 1), 'Josephine Hull': ('Harvey', 1)}\n",
      "1950 oscar nominees (acting) are: {'Kirk Douglas': ('Champion', 1), 'Gregory Peck': (\"Twelve O'Clock High\", 1), 'Richard Todd': ('The Hasty Heart', 1), 'John Wayne': ('Sands of Iwo Jima', 1), 'John Ireland': (\"All the King's Men\", 1), 'Arthur Kennedy': ('Champion', 1), 'Ralph Richardson': ('The Heiress', 1), 'James Whitmore': ('Battleground', 1), 'Jeanne Crain': ('Pinky', 1), 'Susan Hayward': ('My Foolish Heart', 1), 'Deborah Kerr': ('Edward, My Son', 1), 'Loretta Young': ('Come to the Stable', 1), 'Ethel Barrymore': ('Pinky', 1), 'Celeste Holm': ('Come to the Stable', 1), 'Elsa Lanchester': ('Come to the Stable', 1), 'Ethel Waters': ('Pinky', 1)}\n"
     ]
    },
    {
     "data": {
      "text/plain": [
       "{'Coco': 1,\n",
       " 'The Shape of Water': 2,\n",
       " 'Blade Runner 2049': 2,\n",
       " 'Get Out': 1,\n",
       " 'Call Me by Your Name': 1,\n",
       " 'The Silent Child': 1,\n",
       " 'Dunkirk': 3,\n",
       " 'Dear Basketball': 1,\n",
       " 'A Fantastic Woman': 1,\n",
       " 'Phantom Thread': 1,\n",
       " 'Darkest Hour': 1}"
      ]
     },
     "execution_count": 5,
     "metadata": {},
     "output_type": "execute_result"
    }
   ],
   "source": [
    "OscarActorWinners = getDict(actorAwards)\n",
    "OscarActorNoms = getDict(actorAwards, nomination)\n",
    "OscarDirWinners = getDict(directorAwards, name = filmCSV, film = nameCSV)\n",
    "OscarDirNoms = getDict(directorAwards, nomination, name = filmCSV, film = nameCSV)\n",
    "movieWinners = getDict(movieAwards, starAwards = False)\n",
    "movieNoms = getDict(movieAwards, nomination, starAwards = False)\n",
    "otherAwardWinners = getDict(actorAwards + movieAwards + directorAwards, starAwards = False, otherAwards = True)\n",
    "otherAwardNoms = getDict(actorAwards + movieAwards + directorAwards, nomination, starAwards = False, otherAwards = True)\n",
    "\n",
    "print(\"1950 oscar winners (acting) are:\", OscarActorWinners[1951])\n",
    "print(\"1950 oscar nominees (acting) are:\", OscarActorNoms[1950])\n",
    "\n",
    "\n",
    "otherAwardWinners[2018]"
   ]
  },
  {
   "cell_type": "markdown",
   "metadata": {},
   "source": [
    "As seen below, Gary Oldman won an oscar for his role in Darkest Hour. This ensures the dictionary work and shows the correct results when accessing a key."
   ]
  },
  {
   "cell_type": "code",
   "execution_count": 6,
   "metadata": {},
   "outputs": [
    {
     "data": {
      "text/plain": [
       "'Darkest Hour'"
      ]
     },
     "execution_count": 6,
     "metadata": {},
     "output_type": "execute_result"
    }
   ],
   "source": [
    "OscarActorWinners[2018]['Gary Oldman'][0]"
   ]
  },
  {
   "cell_type": "markdown",
   "metadata": {},
   "source": [
    "These are the same as the dictionaries above except that for the starAwards = False tag. Using this simply returns a dictionary of the form Dict[year][actor] = oscars won in year, instead of Dict[year][actor] = movie. Simply makes it easier to deal with just the numbers."
   ]
  },
  {
   "cell_type": "code",
   "execution_count": 7,
   "metadata": {},
   "outputs": [],
   "source": [
    "OscarActorWinnersDupe = getDict(actorAwards, starAwards = False)\n",
    "OscarActorNomsDupe = getDict(actorAwards, nomination, starAwards = False)\n",
    "OscarDirWinnersDupe = getDict(directorAwards, name = filmCSV, film = nameCSV, starAwards = False)\n",
    "OscarDirNomsDupe = getDict(directorAwards, nomination, name = filmCSV, film = nameCSV, starAwards = False)"
   ]
  },
  {
   "cell_type": "markdown",
   "metadata": {},
   "source": [
    "The code below takes in the previous dictionaries and makes a nested dictionary where a running total of Oscar wins for an actor/director is recorded. This means if an actor won an award in the year 1976, the award does not count for movies in which that actor was previously in. The nested dictionary is validated by observing Anthony Quinn's oscar wins. It can be seen he had 1 Oscar in 1953 but by 1957, he had 2 OScars."
   ]
  },
  {
   "cell_type": "code",
   "execution_count": 8,
   "metadata": {},
   "outputs": [
    {
     "name": "stdout",
     "output_type": "stream",
     "text": [
      "1\n",
      "2\n"
     ]
    }
   ],
   "source": [
    "startYear = 1934 + 1\n",
    "endYear = 2018\n",
    "def getRunningTotal(Dict):\n",
    "\n",
    "    totalDict = {}\n",
    "    totalDict[startYear] = Dict[startYear]\n",
    "            \n",
    "    for year in range(startYear + 1, endYear + 1):\n",
    "        totalDict[year] = {}\n",
    "        totalDict[year].update(totalDict[year - 1]) #update dictionary with previous year to keep a running total each year\n",
    "    \n",
    "        for key, value in Dict[year].items():\n",
    "            try:\n",
    "                totalDict[year][key] += 1 #if the actor is already present increment by 1\n",
    "            except:\n",
    "                totalDict[year][key] = 1 #set it to 1 if not already present\n",
    "    return totalDict\n",
    "\n",
    "OscarActorWinnersTot = getRunningTotal(OscarActorWinnersDupe)\n",
    "OscarActorNomsTot = getRunningTotal(OscarActorNomsDupe)\n",
    "OscarDirWinnersTot = getRunningTotal(OscarDirWinnersDupe)\n",
    "OscarDirNomsTot = getRunningTotal(OscarDirNomsDupe)\n",
    "\n",
    "print(OscarActorWinnersTot[1953]['Anthony Quinn'])\n",
    "print(OscarActorWinnersTot[1957]['Anthony Quinn']) #Anthony won an Oscar in 1953 and 1957\n",
    "#OscarActorWinnersTot[2018]"
   ]
  },
  {
   "cell_type": "markdown",
   "metadata": {},
   "source": [
    "Just for fun, a list of directors who won more than 1 award and actors who won more than 2 awards are shown below."
   ]
  },
  {
   "cell_type": "code",
   "execution_count": 9,
   "metadata": {},
   "outputs": [
    {
     "name": "stdout",
     "output_type": "stream",
     "text": [
      "Directors who have won more than 1 award:\n",
      "Frank Capra\n",
      "3\n",
      "John Ford\n",
      "4\n",
      "Leo McCarey\n",
      "2\n",
      "William Wyler\n",
      "3\n",
      "Billy Wilder\n",
      "2\n",
      "Elia Kazan\n",
      "2\n",
      "Joseph L. Mankiewicz\n",
      "2\n",
      "George Stevens\n",
      "2\n",
      "Fred Zinnemann\n",
      "2\n",
      "David Lean\n",
      "2\n",
      "Milos Forman\n",
      "2\n",
      "Oliver Stone\n",
      "2\n",
      "Clint Eastwood\n",
      "2\n",
      "Steven Spielberg\n",
      "2\n",
      "Ang Lee\n",
      "2\n",
      "Alejandro G. Iñárritu\n",
      "2\n",
      "Actors who have won more than 2 awards:\n",
      "Walter Brennan\n",
      "3\n",
      "Ingrid Bergman\n",
      "3\n",
      "Katharine Hepburn\n",
      "3\n",
      "Jack Nicholson\n",
      "3\n",
      "Meryl Streep\n",
      "3\n"
     ]
    }
   ],
   "source": [
    "print(\"Directors who have won more than 1 award:\")\n",
    "for key, value in OscarDirWinnersTot[2018].items():\n",
    "    if value >= 2:\n",
    "        print(key)\n",
    "        print(value)\n",
    "\n",
    "\n",
    "print(\"Actors who have won more than 2 awards:\")        \n",
    "for key, value in OscarActorWinnersTot[2018].items(): #Actors that won multiple awards (just for fun lol)\n",
    "    if value >= 3:\n",
    "        print(key)\n",
    "        print(value)"
   ]
  },
  {
   "cell_type": "markdown",
   "metadata": {},
   "source": [
    "### Web Scraping"
   ]
  },
  {
   "cell_type": "markdown",
   "metadata": {},
   "source": [
    "In order to get all of the features required to create the prediction model, data from movies needs to be scraped. The website that contains a lot of information on movies is IMDb. This website contains information on thousands of movies including the features below.\n",
    "\n",
    "- name of the movie\n",
    "- year the movie was made\n",
    "- genre of the movie\n",
    "- movie runtime\n",
    "- amount of money the movie made\n",
    "- Metascore\n",
    "- IMDb rating\n",
    "- parental/audience rating\n",
    "- actors and director in the movie\n",
    "- number of user votes"
   ]
  },
  {
   "cell_type": "markdown",
   "metadata": {},
   "source": [
    "Below, multiple IMDb URL's are accessed in order to collect information on many movies. Each webpage contain 50 movies so this for loop creates a list of URL's where 50 movies exists on each page. Each URL that is appended to the array is a list of movies released from 1935-2018 sorted by different criteria by IMDd. This is done to maximize the amount of movies collected by our scraper as the URL is no longer consistent once you get to the 10,000th movie. "
   ]
  },
  {
   "cell_type": "code",
   "execution_count": 10,
   "metadata": {},
   "outputs": [],
   "source": [
    "urlArray = []\n",
    "\n",
    "numMovies = 10000 #numMovies % 50 must be 0\n",
    "\n",
    "for i in range(1, numMovies - 48, 50): #create an array of urls to iterate through\n",
    "    urlArray.append('https://www.imdb.com/search/title?title_type=feature&release_date=1935-01-01,2017-12-31&sort=boxoffice_gross_us,desc&start=' #gross\n",
    "                    + str(i) + '&ref_=adv_nxt')\n",
    "    urlArray.append('https://www.imdb.com/search/title?title_type=feature&release_date=1935-01-01,2017-12-31&start=' + str(i) + '&ref_=adv_nxt') #popularity\n",
    "    urlArray.append('https://www.imdb.com/search/title?title_type=feature&release_date=1935-01-01,2017-12-31&sort=num_votes,desc&start=' + str(i) + '&ref_=adv_nxt') #numVotes"
   ]
  },
  {
   "cell_type": "markdown",
   "metadata": {},
   "source": [
    "The function `cleandata()` is used later after collecting the information. This function turns a string of numbers into numeric values or it removes unncessary spacing. This is for the movie year, genre, runtme, box office gross and user votes."
   ]
  },
  {
   "cell_type": "code",
   "execution_count": 11,
   "metadata": {},
   "outputs": [],
   "source": [
    "def cleanData(year_, genre, runtime, box_office, votes):\n",
    "    year1 = ''.join(c for c in year_ if c.isdigit()) #remove non-numeric characters from year\n",
    "    \n",
    "    genre1 = ''.join(c for c in genre if (c != '\\n')) #original data has '\\n' scattered around... remove those\n",
    "    \n",
    "    runtime1 = ''.join(c for c in runtime if c.isdigit()) #remove non-numeric characters from runtime\n",
    "    \n",
    "    box = ''.join(c for c in box_office if (c.isdigit() or c == '.')) #remove non-numeric characters, but keep the decimal\n",
    "    box = round(float(box) * (10**6)) #original is in millions\n",
    "    \n",
    "    votes1 = ''.join(c for c in votes if c.isdigit()) #remove non-numeric characters from votes\n",
    "    \n",
    "    \n",
    "    return int(year1), genre1, int(runtime1), box, int(votes1)"
   ]
  },
  {
   "cell_type": "markdown",
   "metadata": {},
   "source": [
    "The function `normalize()` is used to normalize the runtime and movie gross data to be used for the machine learning model. This function will work but the `normalize()` function fom sci-kit learn is used instead later after collecting the data"
   ]
  },
  {
   "cell_type": "code",
   "execution_count": 12,
   "metadata": {},
   "outputs": [],
   "source": [
    "def normalize(runtime, gross):\n",
    "    nor_runtime = np.divide(runtime,max(runtime))\n",
    "    nor_gross = np.divide(gross,max(gross))\n",
    "    return nor_runtime, nor_gross"
   ]
  },
  {
   "cell_type": "markdown",
   "metadata": {},
   "source": [
    "The `CPIdict` is a dictionary which contains multiplication values (imported from .csv file) to adjust the box office gross values into today's dollar value."
   ]
  },
  {
   "cell_type": "code",
   "execution_count": 13,
   "metadata": {},
   "outputs": [
    {
     "name": "stdout",
     "output_type": "stream",
     "text": [
      "Movies released in 1990 have a multiplier of 1.9345070969999998 to their gross to adjust for inflation\n"
     ]
    }
   ],
   "source": [
    "CPIdict = {}\n",
    "CPIread = pd.read_csv('CPI.csv') #CPI.csv contains the multiplication factor to get from a given year to 2019 to adjust\n",
    "                                 #for inflation\n",
    "for i in range(len(CPIread[\"Growth\"] + 1)):\n",
    "     CPIdict[CPIread[\"Year\"][i]] = CPIread[\"To 2019\"][i]\n",
    "print(\"Movies released in 1990 have a multiplier of\", CPIdict[1990], \"to their gross to adjust for inflation\")"
   ]
  },
  {
   "cell_type": "markdown",
   "metadata": {},
   "source": [
    "The function `inflationAdjust()` multiplies the gross value by the multiplication factor for the year it was released."
   ]
  },
  {
   "cell_type": "code",
   "execution_count": 14,
   "metadata": {},
   "outputs": [],
   "source": [
    "def inflationAdjust(year, box_office):\n",
    "    return int(round(box_office * CPIdict[year])) "
   ]
  },
  {
   "cell_type": "markdown",
   "metadata": {},
   "source": [
    "The function `getOscarNum` is used to evaulate each movie thats is scraped to add the number of Oscar win and nominations to a movie based on the actors and director involved. This function uses the function `checkDict()` in order to accomplish this task. The function returns the nominations and wins in the following order.\n",
    "1. Previous combined Oscar wins by the actors and directors in the movie\n",
    "2. Previous combined Oscar nominations by the actors and directors in the movie\n",
    "\n",
    "3. Number of combined Oscar wins by the actors and directors for this movie only\n",
    "4. Number of combined Oscar nominations by the actors and directors for this movie only\n",
    "\n",
    "5. Number of Oscar wins for an Oscar that the directors and actors directly influence for this movie\n",
    "6. Number of Oscar nominations for an Oscar that the directors and actors directly influence for this movie\n",
    "\n",
    "7. Number of Oscar wins for this movie that actors and directors don't directly influence\n",
    "8. Number of Oscar nominations for this movie that actors and directors don't directly influence"
   ]
  },
  {
   "cell_type": "code",
   "execution_count": 15,
   "metadata": {},
   "outputs": [],
   "source": [
    "def getOscarNum(actor1, actor2, actor3, actor4, actor5, movieName, releaseYear):\n",
    "    stars = []\n",
    "    stars.extend([actor1, actor2, actor3, actor4, actor5])\n",
    "    prevStarWins = prevStarNoms = starWins = starNoms = movieWinsVal = movieNomsVal = otherWins = otherNoms = 0\n",
    "    oscarYear = releaseYear + 1\n",
    "    for star in stars:\n",
    "        if star != '': #Checks how many oscar nominations and wins the directors and actors have prior to this movie\n",
    "            prevStarWins += checkDict(star, OscarDirWinnersTot, releaseYear) #\n",
    "            prevStarWins += checkDict(star, OscarActorWinnersTot, releaseYear)\n",
    "            prevStarNoms += checkDict(star, OscarDirNomsTot, releaseYear)\n",
    "            prevStarNoms += checkDict(star, OscarActorNomsTot, releaseYear)\n",
    "            starWins += checkDict(star, OscarDirWinners, oscarYear, movie = movieName)\n",
    "            starWins += checkDict(star, OscarActorWinners, oscarYear, movie = movieName)\n",
    "            starNoms += checkDict(star, OscarDirNoms, oscarYear, movie = movieName)\n",
    "            starNoms += checkDict(star, OscarActorNoms, oscarYear, movie = movieName)\n",
    "    #Checks num of nominations/wins this movie received\n",
    "    movieWinsVal += checkDict(movieName, movieWinners, oscarYear)\n",
    "    movieNomsVal += checkDict(movieName, movieNoms, oscarYear)\n",
    "    otherWins += checkDict(movieName, otherAwardWinners, oscarYear)\n",
    "    otherNoms += checkDict(movieName, otherAwardNoms, oscarYear)\n",
    "    return prevStarWins, prevStarNoms, starWins, starNoms, movieWinsVal, movieNomsVal, otherWins, otherNoms\n",
    "        \n",
    "def checkDict(name, Dict, year, movie = None):\n",
    "    num = 0\n",
    "    movieName = []\n",
    "    if movie == None:\n",
    "        try:\n",
    "            num += Dict[year][name]       \n",
    "        except:\n",
    "            pass\n",
    "    else:\n",
    "        try:\n",
    "            movieName = Dict[year][name][0]\n",
    "            if movieName == movie:\n",
    "                num += 1\n",
    "        except:\n",
    "            pass\n",
    "    return num"
   ]
  },
  {
   "cell_type": "markdown",
   "metadata": {},
   "source": [
    "Below we check that the function `getOscarNum()` works using Gary Oldman. Gary won an award for his role in Darkest Hour so starWins is 1 (third number in the list)."
   ]
  },
  {
   "cell_type": "code",
   "execution_count": 16,
   "metadata": {},
   "outputs": [
    {
     "data": {
      "text/plain": [
       "(0, 1, 1, 0, 0, 1, 1, 3)"
      ]
     },
     "execution_count": 16,
     "metadata": {},
     "output_type": "execute_result"
    }
   ],
   "source": [
    "getOscarNum('Gary Oldman', '', '', '', '', 'Darkest Hour', 2017)"
   ]
  },
  {
   "cell_type": "markdown",
   "metadata": {},
   "source": [
    "Gary didn't win an award for this movie so starWins is 0 (third number in the list) which is seen below."
   ]
  },
  {
   "cell_type": "code",
   "execution_count": 17,
   "metadata": {},
   "outputs": [
    {
     "data": {
      "text/plain": [
       "(0, 1, 0, 0, 0, 0, 0, 0)"
      ]
     },
     "execution_count": 17,
     "metadata": {},
     "output_type": "execute_result"
    }
   ],
   "source": [
    "getOscarNum('Gary Oldman', '', '', '', '', 'not a real movie', 2017) "
   ]
  },
  {
   "cell_type": "markdown",
   "metadata": {},
   "source": [
    "The number of Oscars Gary has won is increased by one for the next year (1st number in the list)."
   ]
  },
  {
   "cell_type": "code",
   "execution_count": 18,
   "metadata": {},
   "outputs": [
    {
     "data": {
      "text/plain": [
       "(1, 1, 0, 0, 0, 0, 0, 0)"
      ]
     },
     "execution_count": 18,
     "metadata": {},
     "output_type": "execute_result"
    }
   ],
   "source": [
    "getOscarNum('Gary Oldman', '', '', '', '', 'not a real movie', 2018)"
   ]
  },
  {
   "cell_type": "markdown",
   "metadata": {},
   "source": [
    "The backbone of the web scraping is performed in the next block of code. What this code does is it cycles through each URL that contains 50 movies and extracts the important information feature mentioned earlier. After collecting each feature, the data is cleaned using previously defined functions and appended to a list. As each movie's information is collected, if anything is missing or the same movie appears multiple times, that movie is dropped from the list and the next movie is tried. Each movie that contains missing or duplicated data is returned to show that the web-scraping is working.\n",
    "\n",
    "Finally, once all the movies are scraped, the appended list is unzipped to create lists of all the features and information collected.\n",
    "\n",
    "**This part of the notebook can take up to 30 minutes to perform. If you skip this cell the rest of the notebook will still function as normal.**"
   ]
  },
  {
   "cell_type": "code",
   "execution_count": null,
   "metadata": {
    "scrolled": true
   },
   "outputs": [],
   "source": [
    "names = []\n",
    "year = []\n",
    "genres = []\n",
    "runtimes = []\n",
    "metascores = []\n",
    "imdbRatings = []\n",
    "audienceRating = []\n",
    "movieGross = []\n",
    "directors =[]\n",
    "movieGrossInflation = []\n",
    "Star1 = []\n",
    "Star2 = []\n",
    "Star3 = []\n",
    "Star4 = []\n",
    "Star5 = []\n",
    "res = []\n",
    "missingData = 0\n",
    "checkname = []\n",
    "\n",
    "for url in urlArray:\n",
    "    response = get(url)\n",
    "    html_soup = BeautifulSoup(response.text, 'html.parser')\n",
    "    movie_cont = html_soup.find_all('div', class_ = 'lister-item mode-advanced')\n",
    "    \n",
    "    for movie in movie_cont:\n",
    "        try:\n",
    "            name = movie.h3.a.text\n",
    "            if name in checkname:\n",
    "                raise error\n",
    "        except:\n",
    "            continue\n",
    "        try:\n",
    "            year_ = movie.h3.find('span', class_ = 'lister-item-year text-muted unbold').text\n",
    "            genre = movie.p.find('span', class_ = 'genre').text\n",
    "            runtime = movie.p.find('span', class_ = 'runtime').text\n",
    "            viewer_rating = movie.p.span.text\n",
    "            if viewer_rating == runtime:\n",
    "                print(\"Runtime error\")\n",
    "                raise Error\n",
    "            m_score = movie.find('span', class_ = 'metascore').text\n",
    "            imdb_rating = float(movie.strong.text)\n",
    "            box_office = movie.find_all('span', attrs = {'name': 'nv'})[1].text\n",
    "            votes = movie.find_all('span', attrs = {'name': 'nv'})[0].text\n",
    "            people = movie.find_all('p', class_ = '')[1]\n",
    "            people = people.find_all('a')\n",
    "            director = people[0].text\n",
    "            actor1 = people[1].text\n",
    "            \n",
    "            #This try/except block is just in case lesser known movies are missing actors (might happen when\n",
    "            #numMovies is set to like 10000, and I don't think it's a big deal as long as we have one actor + director)\n",
    "            try:\n",
    "                actor2 = people[2].text\n",
    "            except:\n",
    "                actor2 = ''\n",
    "            try:\n",
    "                actor3 = people[3].text\n",
    "            except:\n",
    "                actor3 = ''\n",
    "            try:\n",
    "                actor4 = people[4].text\n",
    "            except:\n",
    "                actor4 = ''\n",
    "            try:\n",
    "                actor5 = people[5].text\n",
    "            except:\n",
    "                actor5 =''\n",
    "            \n",
    "            checkname.append(name)\n",
    "            year_, genre, runtime, box_office, votes = cleanData(year_, genre, runtime, box_office, votes) #clean up data\n",
    "            \n",
    "            box_office_inflation = inflationAdjust(year_, box_office) #adjust for inflation\n",
    "            \n",
    "            numStarWins, numStarNoms, starWin, starNom, numMovieWins, numMovieNoms, numOtherWins, numOtherNoms = getOscarNum(actor1, actor2, actor3, actor4, actor5, name, year_)\n",
    "                \n",
    "            res.append((name, year_, genre, runtime, director, actor1, actor2, actor3, actor4, actor5,\n",
    "                        viewer_rating, m_score, imdb_rating, votes, box_office, box_office_inflation, numStarWins, \n",
    "                        numStarNoms, starWin, starNom, numMovieWins, numMovieNoms, numOtherWins, numOtherNoms))\n",
    "        except:\n",
    "            print(\"Missing/Duplicate data for:\", name)\n",
    "            missingData += 1\n",
    "            \n",
    "(names, year, genres, runtimes, directors, Star1, Star2, Star3, Star4, Star5, audienceRatings, metascores, \n",
    "imdbRatings, numVotes, movieGross, movieGrossInflation, starWinsList, starNomsList, starWon, starNom, movieWinsList, movieNomsList, \n",
    "otherWinsList, otherNomsList) = zip(*res)"
   ]
  },
  {
   "cell_type": "markdown",
   "metadata": {},
   "source": [
    "The data collected using the cell above was written to a CSV, and is read using this cell."
   ]
  },
  {
   "cell_type": "code",
   "execution_count": 32,
   "metadata": {},
   "outputs": [],
   "source": [
    "ScrappedData = pd.read_csv('ScrappedDatabase.csv') #read the database\n",
    "names = ScrappedData[\"Name\"]\n",
    "year = ScrappedData[\"Year\"]\n",
    "genres = ScrappedData[\"Genre\"]\n",
    "runtimes = ScrappedData[\"Runtime\"]\n",
    "directors = ScrappedData[\"Director\"]\n",
    "Star1 = ScrappedData[\"Star1\"]\n",
    "Star2 = ScrappedData[\"Star2\"]\n",
    "Star3 = ScrappedData[\"Star3\"]\n",
    "Star4 = ScrappedData[\"Star4\"]\n",
    "Star5 = ScrappedData[\"Star5\"]\n",
    "audienceRatings = ScrappedData[\"Rating\"]\n",
    "metascores = ScrappedData[\"Metascore\"]\n",
    "imdbRatings = ScrappedData[\"IMDB rating\"]\n",
    "numVotes = ScrappedData[\"Votes\"]\n",
    "movieGross = ScrappedData[\"Gross\"]\n",
    "movieGrossInflation = ScrappedData[\"Inflation adjusted\"]\n",
    "starWinsList = ScrappedData[\"numStarW\"]\n",
    "starNomsList = ScrappedData[\"numStarN\"]\n",
    "starWon = ScrappedData[\"starWon\"]\n",
    "starNom = ScrappedData[\"starNom\"]\n",
    "movieWinsList = ScrappedData[\"numMovieW\"]\n",
    "movieNomsList = ScrappedData[\"numMovieN\"]\n",
    "otherWinsList = ScrappedData[\"numOtherW\"]\n",
    "otherNomsList = ScrappedData[\"numOtherN\"]"
   ]
  },
  {
   "cell_type": "markdown",
   "metadata": {},
   "source": [
    "The number of movies we collected is shown below."
   ]
  },
  {
   "cell_type": "code",
   "execution_count": 33,
   "metadata": {},
   "outputs": [
    {
     "data": {
      "text/plain": [
       "6610"
      ]
     },
     "execution_count": 33,
     "metadata": {},
     "output_type": "execute_result"
    }
   ],
   "source": [
    "len(names)"
   ]
  },
  {
   "cell_type": "markdown",
   "metadata": {},
   "source": [
    "This part below takes in the genre list, it creates a dictionary for all the different kinds of genres and puts a number corresponding to each one. Allows for easy calculations when building the machine learning model. Additionally, a new feature is created which takes in the sum of Oscar wins for each movie. Allows for easy classification later on when building the Oscar prediction model."
   ]
  },
  {
   "cell_type": "code",
   "execution_count": 34,
   "metadata": {},
   "outputs": [],
   "source": [
    "genresnum = [i.replace(\" \",\"\") for i in genres]\n",
    "diff_genres = list(dict.fromkeys(genresnum))\n",
    "genre_to_int = dict((c, i) for i, c in enumerate(diff_genres))"
   ]
  },
  {
   "cell_type": "code",
   "execution_count": 35,
   "metadata": {},
   "outputs": [
    {
     "data": {
      "text/plain": [
       "6610"
      ]
     },
     "execution_count": 35,
     "metadata": {},
     "output_type": "execute_result"
    }
   ],
   "source": [
    "winsDupe = list( map(add, movieWinsList, starWon))\n",
    "wins = list( map(add, winsDupe, otherWinsList))\n",
    "len(wins)"
   ]
  },
  {
   "cell_type": "markdown",
   "metadata": {},
   "source": [
    "Some of the parental ratings are very similar in format such as 18A and 18 or PG-13 and 13 so these duplicates are combined into 1 rating. These ratings are then put into a dictionary similar to the genres so a number is assigned to each rating."
   ]
  },
  {
   "cell_type": "code",
   "execution_count": 36,
   "metadata": {},
   "outputs": [],
   "source": [
    "audienceRatingsnum = [i.replace(\" \",\"\") for i in audienceRatings]\n",
    "audienceRatingsnum = [i.replace(\"+\", '') for i in audienceRatingsnum]\n",
    "audienceRatingsnum = [i.replace(\"14A\",'14') for i in audienceRatingsnum]\n",
    "audienceRatingsnum = [i.replace(\"18A\",'18') for i in audienceRatingsnum]\n",
    "audienceRatingsnum = [i.replace(\"PG-13\",'13') for i in audienceRatingsnum]\n",
    "diff_ratings = list(dict.fromkeys(audienceRatingsnum))\n",
    "ratings_to_int = dict((c, i) for i, c in enumerate(diff_ratings))"
   ]
  },
  {
   "cell_type": "markdown",
   "metadata": {},
   "source": [
    "### Observing the Database\n",
    "All the data has now been collected and cleaned to be in proper formats. The actualy database is then collected into 1 dataframe using the pandas library."
   ]
  },
  {
   "cell_type": "code",
   "execution_count": 38,
   "metadata": {},
   "outputs": [],
   "source": [
    "df = pd.DataFrame({'Name': names,\n",
    "                  'Year': year,\n",
    "                #'Genre': genres,\n",
    "                  'Genre': genresnum,\n",
    "                  'Director': directors,\n",
    "                  'Star1' : Star1,\n",
    "                  'Star2' : Star2,\n",
    "                  'Star3' : Star3,\n",
    "                  'Star4' : Star4,\n",
    "                  'Star5' : Star5,\n",
    "                  'Runtime': runtimes,\n",
    "                  'Rating': audienceRatingsnum,\n",
    "                  # 'Rating': audienceRatings,\n",
    "                  'Metascore': metascores,\n",
    "                  'IMDB rating': imdbRatings,\n",
    "                  'Votes': numVotes,\n",
    "                  'Gross': movieGross,\n",
    "                  'Inflation adjusted':movieGrossInflation,\n",
    "                  'Total Oscar Wins':wins,\n",
    "                  'numStarW' : starWinsList,\n",
    "                  'numStarN' : starNomsList,\n",
    "                  'starWon' : starWon,\n",
    "                  'starNom' :starNom,\n",
    "                  'numMovieW' : movieWinsList,\n",
    "                  'numMovieN' : movieNomsList,\n",
    "                  'numOtherW' : otherWinsList,\n",
    "                  'numOtherN' : otherNomsList})"
   ]
  },
  {
   "cell_type": "markdown",
   "metadata": {},
   "source": [
    "The code below applies the conversion dictionaries for genres and parental ratings. Additionally, the Metascores for all the movies are converted from string to numbers as this was not performed earlier."
   ]
  },
  {
   "cell_type": "code",
   "execution_count": 39,
   "metadata": {},
   "outputs": [],
   "source": [
    "df['Rating'] = df['Rating'].apply(lambda x:ratings_to_int[x])\n",
    "df['Genre'] = df['Genre'].apply(lambda x:genre_to_int[x])\n",
    "df['Metascore'] = df['Metascore'].apply(lambda x:int(x))"
   ]
  },
  {
   "cell_type": "markdown",
   "metadata": {},
   "source": [
    "The actors and directors columns can be dropped fomr the datalist since these columns are converted to numbers based on the Oscar wins and nominations. We want to use only numeric data for the model."
   ]
  },
  {
   "cell_type": "code",
   "execution_count": 40,
   "metadata": {},
   "outputs": [],
   "source": [
    "X = df['Inflation adjusted']\n",
    "y = df.drop('Name', axis = 1)\n",
    "y = y.drop('Director', axis=1)\n",
    "y = y.drop('Star1', axis=1)\n",
    "y = y.drop('Star2', axis=1)\n",
    "y = y.drop('Star3', axis=1)\n",
    "y = y.drop('Star4', axis=1)\n",
    "y = y.drop('Star5', axis=1)\n",
    "y = y.drop('Gross', axis=1)\n",
    "y = y.drop('Inflation adjusted', axis=1)\n",
    "y = y.drop('starWon', axis=1)\n",
    "y = y.drop('starNom', axis=1)\n",
    "y = y.drop('numMovieW', axis=1)\n",
    "y = y.drop('numMovieN', axis=1)\n",
    "y = y.drop('numOtherW', axis=1)\n",
    "y = y.drop('numOtherN', axis=1)\n",
    "y = y.drop('Total Oscar Wins', axis=1)"
   ]
  },
  {
   "cell_type": "markdown",
   "metadata": {},
   "source": [
    "The new updated database head can be seen below. This database is the one that will be used for creating the prediction models."
   ]
  },
  {
   "cell_type": "code",
   "execution_count": 41,
   "metadata": {},
   "outputs": [
    {
     "data": {
      "text/html": [
       "<div>\n",
       "<style scoped>\n",
       "    .dataframe tbody tr th:only-of-type {\n",
       "        vertical-align: middle;\n",
       "    }\n",
       "\n",
       "    .dataframe tbody tr th {\n",
       "        vertical-align: top;\n",
       "    }\n",
       "\n",
       "    .dataframe thead th {\n",
       "        text-align: right;\n",
       "    }\n",
       "</style>\n",
       "<table border=\"1\" class=\"dataframe\">\n",
       "  <thead>\n",
       "    <tr style=\"text-align: right;\">\n",
       "      <th></th>\n",
       "      <th>Year</th>\n",
       "      <th>Genre</th>\n",
       "      <th>Runtime</th>\n",
       "      <th>Rating</th>\n",
       "      <th>Metascore</th>\n",
       "      <th>IMDB rating</th>\n",
       "      <th>Votes</th>\n",
       "      <th>numStarW</th>\n",
       "      <th>numStarN</th>\n",
       "    </tr>\n",
       "  </thead>\n",
       "  <tbody>\n",
       "    <tr>\n",
       "      <th>0</th>\n",
       "      <td>2015</td>\n",
       "      <td>0</td>\n",
       "      <td>136</td>\n",
       "      <td>0</td>\n",
       "      <td>81</td>\n",
       "      <td>8.0</td>\n",
       "      <td>777758</td>\n",
       "      <td>0</td>\n",
       "      <td>0</td>\n",
       "    </tr>\n",
       "    <tr>\n",
       "      <th>1</th>\n",
       "      <td>2009</td>\n",
       "      <td>0</td>\n",
       "      <td>162</td>\n",
       "      <td>0</td>\n",
       "      <td>83</td>\n",
       "      <td>7.8</td>\n",
       "      <td>1034881</td>\n",
       "      <td>0</td>\n",
       "      <td>2</td>\n",
       "    </tr>\n",
       "    <tr>\n",
       "      <th>2</th>\n",
       "      <td>1997</td>\n",
       "      <td>1</td>\n",
       "      <td>194</td>\n",
       "      <td>0</td>\n",
       "      <td>75</td>\n",
       "      <td>7.8</td>\n",
       "      <td>946636</td>\n",
       "      <td>1</td>\n",
       "      <td>2</td>\n",
       "    </tr>\n",
       "    <tr>\n",
       "      <th>3</th>\n",
       "      <td>2015</td>\n",
       "      <td>2</td>\n",
       "      <td>124</td>\n",
       "      <td>0</td>\n",
       "      <td>59</td>\n",
       "      <td>7.0</td>\n",
       "      <td>534062</td>\n",
       "      <td>0</td>\n",
       "      <td>0</td>\n",
       "    </tr>\n",
       "    <tr>\n",
       "      <th>4</th>\n",
       "      <td>2012</td>\n",
       "      <td>2</td>\n",
       "      <td>143</td>\n",
       "      <td>0</td>\n",
       "      <td>69</td>\n",
       "      <td>8.1</td>\n",
       "      <td>1162379</td>\n",
       "      <td>0</td>\n",
       "      <td>4</td>\n",
       "    </tr>\n",
       "  </tbody>\n",
       "</table>\n",
       "</div>"
      ],
      "text/plain": [
       "   Year  Genre  Runtime  Rating  Metascore  IMDB rating    Votes  numStarW  \\\n",
       "0  2015      0      136       0         81          8.0   777758         0   \n",
       "1  2009      0      162       0         83          7.8  1034881         0   \n",
       "2  1997      1      194       0         75          7.8   946636         1   \n",
       "3  2015      2      124       0         59          7.0   534062         0   \n",
       "4  2012      2      143       0         69          8.1  1162379         0   \n",
       "\n",
       "   numStarN  \n",
       "0         0  \n",
       "1         2  \n",
       "2         2  \n",
       "3         0  \n",
       "4         4  "
      ]
     },
     "execution_count": 41,
     "metadata": {},
     "output_type": "execute_result"
    }
   ],
   "source": [
    "y.head()"
   ]
  },
  {
   "cell_type": "markdown",
   "metadata": {},
   "source": [
    "The X database only contains the adjusted box office gross of the movies which is used to predict movie success using regression models."
   ]
  },
  {
   "cell_type": "code",
   "execution_count": 42,
   "metadata": {},
   "outputs": [
    {
     "data": {
      "text/plain": [
       "0     998872170\n",
       "1     896004440\n",
       "2    1038221796\n",
       "3     695593225\n",
       "4     686255742\n",
       "Name: Inflation adjusted, dtype: int64"
      ]
     },
     "execution_count": 42,
     "metadata": {},
     "output_type": "execute_result"
    }
   ],
   "source": [
    "X.head()"
   ]
  },
  {
   "cell_type": "markdown",
   "metadata": {},
   "source": [
    "### Building the Regression Model to Predict Box Office Gross\n",
    "The models will be created using the scikit-learn as it is a simple to use library with a lot of functionality. The first part of creating the model is to separate the data into training and test data. After separating the data, a simple linear regression model will be made using and the accuracy of this model will be validated."
   ]
  },
  {
   "cell_type": "markdown",
   "metadata": {},
   "source": [
    "The below code separates the training and testing data randomly. 90% of the data is for training and 10% is for testing."
   ]
  },
  {
   "cell_type": "code",
   "execution_count": 43,
   "metadata": {},
   "outputs": [],
   "source": [
    "X_train, X_test, y_train, y_test = train_test_split(y, X, test_size=0.1, random_state=1)"
   ]
  },
  {
   "cell_type": "markdown",
   "metadata": {},
   "source": [
    "The below code normalizes the data that isn't already normalized. It is best practice and ensure no features are weighted more than others simply because they contain larger values. The data is then printed to ensure it is normalized."
   ]
  },
  {
   "cell_type": "code",
   "execution_count": 44,
   "metadata": {},
   "outputs": [
    {
     "name": "stderr",
     "output_type": "stream",
     "text": [
      "C:\\Users\\rylee\\Anaconda3\\lib\\site-packages\\sklearn\\preprocessing\\data.py:625: DataConversionWarning: Data with input dtype int64, float64 were all converted to float64 by StandardScaler.\n",
      "  return self.partial_fit(X, y)\n",
      "C:\\Users\\rylee\\Anaconda3\\lib\\site-packages\\ipykernel_launcher.py:6: DataConversionWarning: Data with input dtype int64, float64 were all converted to float64 by StandardScaler.\n",
      "  \n",
      "C:\\Users\\rylee\\Anaconda3\\lib\\site-packages\\ipykernel_launcher.py:7: DataConversionWarning: Data with input dtype int64, float64 were all converted to float64 by StandardScaler.\n",
      "  import sys\n"
     ]
    },
    {
     "data": {
      "text/html": [
       "<div>\n",
       "<style scoped>\n",
       "    .dataframe tbody tr th:only-of-type {\n",
       "        vertical-align: middle;\n",
       "    }\n",
       "\n",
       "    .dataframe tbody tr th {\n",
       "        vertical-align: top;\n",
       "    }\n",
       "\n",
       "    .dataframe thead th {\n",
       "        text-align: right;\n",
       "    }\n",
       "</style>\n",
       "<table border=\"1\" class=\"dataframe\">\n",
       "  <thead>\n",
       "    <tr style=\"text-align: right;\">\n",
       "      <th></th>\n",
       "      <th>Year</th>\n",
       "      <th>Genre</th>\n",
       "      <th>Runtime</th>\n",
       "      <th>Rating</th>\n",
       "      <th>Metascore</th>\n",
       "      <th>IMDB rating</th>\n",
       "      <th>Votes</th>\n",
       "      <th>numStarW</th>\n",
       "      <th>numStarN</th>\n",
       "    </tr>\n",
       "  </thead>\n",
       "  <tbody>\n",
       "    <tr>\n",
       "      <th>0</th>\n",
       "      <td>0.012371</td>\n",
       "      <td>0.000000</td>\n",
       "      <td>0.015322</td>\n",
       "      <td>0.000000</td>\n",
       "      <td>0.016996</td>\n",
       "      <td>0.014973</td>\n",
       "      <td>0.054474</td>\n",
       "      <td>0.000000</td>\n",
       "      <td>0.000000</td>\n",
       "    </tr>\n",
       "    <tr>\n",
       "      <th>1</th>\n",
       "      <td>0.012334</td>\n",
       "      <td>0.000000</td>\n",
       "      <td>0.018251</td>\n",
       "      <td>0.000000</td>\n",
       "      <td>0.017415</td>\n",
       "      <td>0.014599</td>\n",
       "      <td>0.072483</td>\n",
       "      <td>0.000000</td>\n",
       "      <td>0.010109</td>\n",
       "    </tr>\n",
       "    <tr>\n",
       "      <th>2</th>\n",
       "      <td>0.012261</td>\n",
       "      <td>0.000116</td>\n",
       "      <td>0.021856</td>\n",
       "      <td>0.000000</td>\n",
       "      <td>0.015737</td>\n",
       "      <td>0.014599</td>\n",
       "      <td>0.066303</td>\n",
       "      <td>0.015686</td>\n",
       "      <td>0.010109</td>\n",
       "    </tr>\n",
       "    <tr>\n",
       "      <th>3</th>\n",
       "      <td>0.012371</td>\n",
       "      <td>0.000231</td>\n",
       "      <td>0.013970</td>\n",
       "      <td>0.000000</td>\n",
       "      <td>0.012380</td>\n",
       "      <td>0.013102</td>\n",
       "      <td>0.037406</td>\n",
       "      <td>0.000000</td>\n",
       "      <td>0.000000</td>\n",
       "    </tr>\n",
       "    <tr>\n",
       "      <th>4</th>\n",
       "      <td>0.012353</td>\n",
       "      <td>0.000231</td>\n",
       "      <td>0.016110</td>\n",
       "      <td>0.000000</td>\n",
       "      <td>0.014478</td>\n",
       "      <td>0.015161</td>\n",
       "      <td>0.081413</td>\n",
       "      <td>0.000000</td>\n",
       "      <td>0.020218</td>\n",
       "    </tr>\n",
       "    <tr>\n",
       "      <th>5</th>\n",
       "      <td>0.012383</td>\n",
       "      <td>0.000000</td>\n",
       "      <td>0.017124</td>\n",
       "      <td>0.000000</td>\n",
       "      <td>0.017835</td>\n",
       "      <td>0.013476</td>\n",
       "      <td>0.031751</td>\n",
       "      <td>0.000000</td>\n",
       "      <td>0.000000</td>\n",
       "    </tr>\n",
       "    <tr>\n",
       "      <th>6</th>\n",
       "      <td>0.012328</td>\n",
       "      <td>0.000347</td>\n",
       "      <td>0.017124</td>\n",
       "      <td>0.000000</td>\n",
       "      <td>0.017625</td>\n",
       "      <td>0.016845</td>\n",
       "      <td>0.142832</td>\n",
       "      <td>0.031373</td>\n",
       "      <td>0.025272</td>\n",
       "    </tr>\n",
       "    <tr>\n",
       "      <th>7</th>\n",
       "      <td>0.012377</td>\n",
       "      <td>0.000231</td>\n",
       "      <td>0.014984</td>\n",
       "      <td>0.000000</td>\n",
       "      <td>0.013639</td>\n",
       "      <td>0.014599</td>\n",
       "      <td>0.032972</td>\n",
       "      <td>0.000000</td>\n",
       "      <td>0.005054</td>\n",
       "    </tr>\n",
       "    <tr>\n",
       "      <th>8</th>\n",
       "      <td>0.012383</td>\n",
       "      <td>0.000463</td>\n",
       "      <td>0.014533</td>\n",
       "      <td>0.000000</td>\n",
       "      <td>0.013639</td>\n",
       "      <td>0.013476</td>\n",
       "      <td>0.016379</td>\n",
       "      <td>0.000000</td>\n",
       "      <td>0.000000</td>\n",
       "    </tr>\n",
       "    <tr>\n",
       "      <th>9</th>\n",
       "      <td>0.012377</td>\n",
       "      <td>0.000579</td>\n",
       "      <td>0.010928</td>\n",
       "      <td>0.003341</td>\n",
       "      <td>0.016156</td>\n",
       "      <td>0.013663</td>\n",
       "      <td>0.014752</td>\n",
       "      <td>0.000000</td>\n",
       "      <td>0.005054</td>\n",
       "    </tr>\n",
       "    <tr>\n",
       "      <th>10</th>\n",
       "      <td>0.012273</td>\n",
       "      <td>0.000000</td>\n",
       "      <td>0.015322</td>\n",
       "      <td>0.000000</td>\n",
       "      <td>0.010701</td>\n",
       "      <td>0.012166</td>\n",
       "      <td>0.045401</td>\n",
       "      <td>0.000000</td>\n",
       "      <td>0.005054</td>\n",
       "    </tr>\n",
       "    <tr>\n",
       "      <th>11</th>\n",
       "      <td>0.012371</td>\n",
       "      <td>0.000231</td>\n",
       "      <td>0.015885</td>\n",
       "      <td>0.000000</td>\n",
       "      <td>0.013848</td>\n",
       "      <td>0.013663</td>\n",
       "      <td>0.045023</td>\n",
       "      <td>0.000000</td>\n",
       "      <td>0.020218</td>\n",
       "    </tr>\n",
       "    <tr>\n",
       "      <th>12</th>\n",
       "      <td>0.012353</td>\n",
       "      <td>0.000694</td>\n",
       "      <td>0.018476</td>\n",
       "      <td>0.006682</td>\n",
       "      <td>0.016366</td>\n",
       "      <td>0.015722</td>\n",
       "      <td>0.096154</td>\n",
       "      <td>0.015686</td>\n",
       "      <td>0.010109</td>\n",
       "    </tr>\n",
       "    <tr>\n",
       "      <th>13</th>\n",
       "      <td>0.012304</td>\n",
       "      <td>0.000579</td>\n",
       "      <td>0.010477</td>\n",
       "      <td>0.003341</td>\n",
       "      <td>0.015737</td>\n",
       "      <td>0.013476</td>\n",
       "      <td>0.026467</td>\n",
       "      <td>0.000000</td>\n",
       "      <td>0.000000</td>\n",
       "    </tr>\n",
       "    <tr>\n",
       "      <th>14</th>\n",
       "      <td>0.012169</td>\n",
       "      <td>0.000810</td>\n",
       "      <td>0.012956</td>\n",
       "      <td>0.003341</td>\n",
       "      <td>0.019094</td>\n",
       "      <td>0.014786</td>\n",
       "      <td>0.023408</td>\n",
       "      <td>0.000000</td>\n",
       "      <td>0.000000</td>\n",
       "    </tr>\n",
       "    <tr>\n",
       "      <th>15</th>\n",
       "      <td>0.012359</td>\n",
       "      <td>0.000231</td>\n",
       "      <td>0.016448</td>\n",
       "      <td>0.000000</td>\n",
       "      <td>0.015947</td>\n",
       "      <td>0.014038</td>\n",
       "      <td>0.040035</td>\n",
       "      <td>0.031373</td>\n",
       "      <td>0.020218</td>\n",
       "    </tr>\n",
       "    <tr>\n",
       "      <th>16</th>\n",
       "      <td>0.012316</td>\n",
       "      <td>0.000000</td>\n",
       "      <td>0.017012</td>\n",
       "      <td>0.000000</td>\n",
       "      <td>0.011121</td>\n",
       "      <td>0.013663</td>\n",
       "      <td>0.042637</td>\n",
       "      <td>0.000000</td>\n",
       "      <td>0.015163</td>\n",
       "    </tr>\n",
       "    <tr>\n",
       "      <th>17</th>\n",
       "      <td>0.012340</td>\n",
       "      <td>0.000579</td>\n",
       "      <td>0.011604</td>\n",
       "      <td>0.003341</td>\n",
       "      <td>0.019304</td>\n",
       "      <td>0.015535</td>\n",
       "      <td>0.047169</td>\n",
       "      <td>0.031373</td>\n",
       "      <td>0.030327</td>\n",
       "    </tr>\n",
       "    <tr>\n",
       "      <th>18</th>\n",
       "      <td>0.012383</td>\n",
       "      <td>0.000000</td>\n",
       "      <td>0.015885</td>\n",
       "      <td>0.000000</td>\n",
       "      <td>0.015947</td>\n",
       "      <td>0.014038</td>\n",
       "      <td>0.033388</td>\n",
       "      <td>0.000000</td>\n",
       "      <td>0.000000</td>\n",
       "    </tr>\n",
       "    <tr>\n",
       "      <th>19</th>\n",
       "      <td>0.012359</td>\n",
       "      <td>0.000231</td>\n",
       "      <td>0.014646</td>\n",
       "      <td>0.000000</td>\n",
       "      <td>0.013009</td>\n",
       "      <td>0.013476</td>\n",
       "      <td>0.047499</td>\n",
       "      <td>0.015686</td>\n",
       "      <td>0.015163</td>\n",
       "    </tr>\n",
       "    <tr>\n",
       "      <th>20</th>\n",
       "      <td>0.012377</td>\n",
       "      <td>0.000231</td>\n",
       "      <td>0.016561</td>\n",
       "      <td>0.000000</td>\n",
       "      <td>0.015737</td>\n",
       "      <td>0.014599</td>\n",
       "      <td>0.039412</td>\n",
       "      <td>0.000000</td>\n",
       "      <td>0.010109</td>\n",
       "    </tr>\n",
       "    <tr>\n",
       "      <th>21</th>\n",
       "      <td>0.012353</td>\n",
       "      <td>0.000231</td>\n",
       "      <td>0.015998</td>\n",
       "      <td>0.000000</td>\n",
       "      <td>0.014268</td>\n",
       "      <td>0.013476</td>\n",
       "      <td>0.055385</td>\n",
       "      <td>0.000000</td>\n",
       "      <td>0.010109</td>\n",
       "    </tr>\n",
       "    <tr>\n",
       "      <th>22</th>\n",
       "      <td>0.012383</td>\n",
       "      <td>0.000926</td>\n",
       "      <td>0.013407</td>\n",
       "      <td>0.006682</td>\n",
       "      <td>0.012170</td>\n",
       "      <td>0.013102</td>\n",
       "      <td>0.016571</td>\n",
       "      <td>0.000000</td>\n",
       "      <td>0.000000</td>\n",
       "    </tr>\n",
       "    <tr>\n",
       "      <th>23</th>\n",
       "      <td>0.012291</td>\n",
       "      <td>0.000231</td>\n",
       "      <td>0.013632</td>\n",
       "      <td>0.000000</td>\n",
       "      <td>0.015317</td>\n",
       "      <td>0.013663</td>\n",
       "      <td>0.044378</td>\n",
       "      <td>0.000000</td>\n",
       "      <td>0.010109</td>\n",
       "    </tr>\n",
       "    <tr>\n",
       "      <th>24</th>\n",
       "      <td>0.012236</td>\n",
       "      <td>0.001041</td>\n",
       "      <td>0.014308</td>\n",
       "      <td>0.000000</td>\n",
       "      <td>0.014268</td>\n",
       "      <td>0.015161</td>\n",
       "      <td>0.054294</td>\n",
       "      <td>0.015686</td>\n",
       "      <td>0.005054</td>\n",
       "    </tr>\n",
       "    <tr>\n",
       "      <th>25</th>\n",
       "      <td>0.012334</td>\n",
       "      <td>0.000231</td>\n",
       "      <td>0.016899</td>\n",
       "      <td>0.006682</td>\n",
       "      <td>0.007344</td>\n",
       "      <td>0.011230</td>\n",
       "      <td>0.025418</td>\n",
       "      <td>0.000000</td>\n",
       "      <td>0.000000</td>\n",
       "    </tr>\n",
       "    <tr>\n",
       "      <th>26</th>\n",
       "      <td>0.012359</td>\n",
       "      <td>0.000579</td>\n",
       "      <td>0.011491</td>\n",
       "      <td>0.003341</td>\n",
       "      <td>0.015527</td>\n",
       "      <td>0.014038</td>\n",
       "      <td>0.035881</td>\n",
       "      <td>0.000000</td>\n",
       "      <td>0.000000</td>\n",
       "    </tr>\n",
       "    <tr>\n",
       "      <th>27</th>\n",
       "      <td>0.012383</td>\n",
       "      <td>0.000926</td>\n",
       "      <td>0.015322</td>\n",
       "      <td>0.000000</td>\n",
       "      <td>0.014058</td>\n",
       "      <td>0.014412</td>\n",
       "      <td>0.032343</td>\n",
       "      <td>0.000000</td>\n",
       "      <td>0.000000</td>\n",
       "    </tr>\n",
       "    <tr>\n",
       "      <th>28</th>\n",
       "      <td>0.012347</td>\n",
       "      <td>0.001157</td>\n",
       "      <td>0.014646</td>\n",
       "      <td>0.000000</td>\n",
       "      <td>0.018255</td>\n",
       "      <td>0.015161</td>\n",
       "      <td>0.047945</td>\n",
       "      <td>0.000000</td>\n",
       "      <td>0.000000</td>\n",
       "    </tr>\n",
       "    <tr>\n",
       "      <th>29</th>\n",
       "      <td>0.012297</td>\n",
       "      <td>0.000579</td>\n",
       "      <td>0.011266</td>\n",
       "      <td>0.003341</td>\n",
       "      <td>0.018884</td>\n",
       "      <td>0.015161</td>\n",
       "      <td>0.060151</td>\n",
       "      <td>0.000000</td>\n",
       "      <td>0.015163</td>\n",
       "    </tr>\n",
       "    <tr>\n",
       "      <th>...</th>\n",
       "      <td>...</td>\n",
       "      <td>...</td>\n",
       "      <td>...</td>\n",
       "      <td>...</td>\n",
       "      <td>...</td>\n",
       "      <td>...</td>\n",
       "      <td>...</td>\n",
       "      <td>...</td>\n",
       "      <td>...</td>\n",
       "    </tr>\n",
       "    <tr>\n",
       "      <th>6580</th>\n",
       "      <td>0.012328</td>\n",
       "      <td>0.001273</td>\n",
       "      <td>0.011379</td>\n",
       "      <td>0.006682</td>\n",
       "      <td>0.008393</td>\n",
       "      <td>0.011604</td>\n",
       "      <td>0.000372</td>\n",
       "      <td>0.015686</td>\n",
       "      <td>0.005054</td>\n",
       "    </tr>\n",
       "    <tr>\n",
       "      <th>6581</th>\n",
       "      <td>0.012383</td>\n",
       "      <td>0.001273</td>\n",
       "      <td>0.011041</td>\n",
       "      <td>0.020045</td>\n",
       "      <td>0.015107</td>\n",
       "      <td>0.010481</td>\n",
       "      <td>0.000075</td>\n",
       "      <td>0.000000</td>\n",
       "      <td>0.015163</td>\n",
       "    </tr>\n",
       "    <tr>\n",
       "      <th>6582</th>\n",
       "      <td>0.012334</td>\n",
       "      <td>0.006248</td>\n",
       "      <td>0.010928</td>\n",
       "      <td>0.020045</td>\n",
       "      <td>0.009232</td>\n",
       "      <td>0.011979</td>\n",
       "      <td>0.000427</td>\n",
       "      <td>0.000000</td>\n",
       "      <td>0.000000</td>\n",
       "    </tr>\n",
       "    <tr>\n",
       "      <th>6583</th>\n",
       "      <td>0.012297</td>\n",
       "      <td>0.029852</td>\n",
       "      <td>0.011041</td>\n",
       "      <td>0.000000</td>\n",
       "      <td>0.011960</td>\n",
       "      <td>0.012915</td>\n",
       "      <td>0.000005</td>\n",
       "      <td>0.000000</td>\n",
       "      <td>0.000000</td>\n",
       "    </tr>\n",
       "    <tr>\n",
       "      <th>6584</th>\n",
       "      <td>0.012304</td>\n",
       "      <td>0.000116</td>\n",
       "      <td>0.011829</td>\n",
       "      <td>0.006682</td>\n",
       "      <td>0.009232</td>\n",
       "      <td>0.011417</td>\n",
       "      <td>0.000168</td>\n",
       "      <td>0.015686</td>\n",
       "      <td>0.010109</td>\n",
       "    </tr>\n",
       "    <tr>\n",
       "      <th>6585</th>\n",
       "      <td>0.012273</td>\n",
       "      <td>0.046051</td>\n",
       "      <td>0.010590</td>\n",
       "      <td>0.000000</td>\n",
       "      <td>0.007134</td>\n",
       "      <td>0.011230</td>\n",
       "      <td>0.000037</td>\n",
       "      <td>0.000000</td>\n",
       "      <td>0.010109</td>\n",
       "    </tr>\n",
       "    <tr>\n",
       "      <th>6586</th>\n",
       "      <td>0.012279</td>\n",
       "      <td>0.001273</td>\n",
       "      <td>0.011041</td>\n",
       "      <td>0.020045</td>\n",
       "      <td>0.014898</td>\n",
       "      <td>0.011979</td>\n",
       "      <td>0.000062</td>\n",
       "      <td>0.000000</td>\n",
       "      <td>0.000000</td>\n",
       "    </tr>\n",
       "    <tr>\n",
       "      <th>6587</th>\n",
       "      <td>0.012359</td>\n",
       "      <td>0.000347</td>\n",
       "      <td>0.013294</td>\n",
       "      <td>0.010023</td>\n",
       "      <td>0.014688</td>\n",
       "      <td>0.013102</td>\n",
       "      <td>0.000161</td>\n",
       "      <td>0.000000</td>\n",
       "      <td>0.000000</td>\n",
       "    </tr>\n",
       "    <tr>\n",
       "      <th>6588</th>\n",
       "      <td>0.012230</td>\n",
       "      <td>0.007637</td>\n",
       "      <td>0.009576</td>\n",
       "      <td>0.000000</td>\n",
       "      <td>0.017835</td>\n",
       "      <td>0.014038</td>\n",
       "      <td>0.000165</td>\n",
       "      <td>0.000000</td>\n",
       "      <td>0.000000</td>\n",
       "    </tr>\n",
       "    <tr>\n",
       "      <th>6589</th>\n",
       "      <td>0.012322</td>\n",
       "      <td>0.046167</td>\n",
       "      <td>0.010139</td>\n",
       "      <td>0.020045</td>\n",
       "      <td>0.015947</td>\n",
       "      <td>0.014412</td>\n",
       "      <td>0.000226</td>\n",
       "      <td>0.000000</td>\n",
       "      <td>0.000000</td>\n",
       "    </tr>\n",
       "    <tr>\n",
       "      <th>6590</th>\n",
       "      <td>0.012304</td>\n",
       "      <td>0.004050</td>\n",
       "      <td>0.009125</td>\n",
       "      <td>0.006682</td>\n",
       "      <td>0.008183</td>\n",
       "      <td>0.008423</td>\n",
       "      <td>0.000218</td>\n",
       "      <td>0.000000</td>\n",
       "      <td>0.000000</td>\n",
       "    </tr>\n",
       "    <tr>\n",
       "      <th>6591</th>\n",
       "      <td>0.012297</td>\n",
       "      <td>0.006248</td>\n",
       "      <td>0.011266</td>\n",
       "      <td>0.000000</td>\n",
       "      <td>0.011750</td>\n",
       "      <td>0.012727</td>\n",
       "      <td>0.000322</td>\n",
       "      <td>0.000000</td>\n",
       "      <td>0.000000</td>\n",
       "    </tr>\n",
       "    <tr>\n",
       "      <th>6592</th>\n",
       "      <td>0.012285</td>\n",
       "      <td>0.000347</td>\n",
       "      <td>0.011491</td>\n",
       "      <td>0.020045</td>\n",
       "      <td>0.011330</td>\n",
       "      <td>0.013102</td>\n",
       "      <td>0.000425</td>\n",
       "      <td>0.000000</td>\n",
       "      <td>0.000000</td>\n",
       "    </tr>\n",
       "    <tr>\n",
       "      <th>6593</th>\n",
       "      <td>0.012359</td>\n",
       "      <td>0.000116</td>\n",
       "      <td>0.011717</td>\n",
       "      <td>0.020045</td>\n",
       "      <td>0.012380</td>\n",
       "      <td>0.011604</td>\n",
       "      <td>0.000425</td>\n",
       "      <td>0.000000</td>\n",
       "      <td>0.020218</td>\n",
       "    </tr>\n",
       "    <tr>\n",
       "      <th>6594</th>\n",
       "      <td>0.012340</td>\n",
       "      <td>0.001273</td>\n",
       "      <td>0.011266</td>\n",
       "      <td>0.006682</td>\n",
       "      <td>0.013009</td>\n",
       "      <td>0.012353</td>\n",
       "      <td>0.000423</td>\n",
       "      <td>0.000000</td>\n",
       "      <td>0.000000</td>\n",
       "    </tr>\n",
       "    <tr>\n",
       "      <th>6595</th>\n",
       "      <td>0.012310</td>\n",
       "      <td>0.004050</td>\n",
       "      <td>0.012055</td>\n",
       "      <td>0.020045</td>\n",
       "      <td>0.011330</td>\n",
       "      <td>0.012353</td>\n",
       "      <td>0.000422</td>\n",
       "      <td>0.000000</td>\n",
       "      <td>0.005054</td>\n",
       "    </tr>\n",
       "    <tr>\n",
       "      <th>6596</th>\n",
       "      <td>0.012285</td>\n",
       "      <td>0.001273</td>\n",
       "      <td>0.012731</td>\n",
       "      <td>0.026727</td>\n",
       "      <td>0.012799</td>\n",
       "      <td>0.013663</td>\n",
       "      <td>0.000288</td>\n",
       "      <td>0.000000</td>\n",
       "      <td>0.000000</td>\n",
       "    </tr>\n",
       "    <tr>\n",
       "      <th>6597</th>\n",
       "      <td>0.012340</td>\n",
       "      <td>0.003934</td>\n",
       "      <td>0.013519</td>\n",
       "      <td>0.020045</td>\n",
       "      <td>0.008813</td>\n",
       "      <td>0.010669</td>\n",
       "      <td>0.000006</td>\n",
       "      <td>0.000000</td>\n",
       "      <td>0.000000</td>\n",
       "    </tr>\n",
       "    <tr>\n",
       "      <th>6598</th>\n",
       "      <td>0.012359</td>\n",
       "      <td>0.006364</td>\n",
       "      <td>0.009351</td>\n",
       "      <td>0.006682</td>\n",
       "      <td>0.000210</td>\n",
       "      <td>0.005428</td>\n",
       "      <td>0.000281</td>\n",
       "      <td>0.015686</td>\n",
       "      <td>0.000000</td>\n",
       "    </tr>\n",
       "    <tr>\n",
       "      <th>6599</th>\n",
       "      <td>0.012328</td>\n",
       "      <td>0.003934</td>\n",
       "      <td>0.011266</td>\n",
       "      <td>0.000000</td>\n",
       "      <td>0.018465</td>\n",
       "      <td>0.013289</td>\n",
       "      <td>0.000205</td>\n",
       "      <td>0.000000</td>\n",
       "      <td>0.000000</td>\n",
       "    </tr>\n",
       "    <tr>\n",
       "      <th>6600</th>\n",
       "      <td>0.012291</td>\n",
       "      <td>0.000116</td>\n",
       "      <td>0.010027</td>\n",
       "      <td>0.020045</td>\n",
       "      <td>0.013639</td>\n",
       "      <td>0.010481</td>\n",
       "      <td>0.000025</td>\n",
       "      <td>0.000000</td>\n",
       "      <td>0.000000</td>\n",
       "    </tr>\n",
       "    <tr>\n",
       "      <th>6601</th>\n",
       "      <td>0.012365</td>\n",
       "      <td>0.000116</td>\n",
       "      <td>0.012167</td>\n",
       "      <td>0.026727</td>\n",
       "      <td>0.011750</td>\n",
       "      <td>0.011043</td>\n",
       "      <td>0.000144</td>\n",
       "      <td>0.000000</td>\n",
       "      <td>0.005054</td>\n",
       "    </tr>\n",
       "    <tr>\n",
       "      <th>6602</th>\n",
       "      <td>0.012322</td>\n",
       "      <td>0.008215</td>\n",
       "      <td>0.010590</td>\n",
       "      <td>0.020045</td>\n",
       "      <td>0.011121</td>\n",
       "      <td>0.013663</td>\n",
       "      <td>0.000376</td>\n",
       "      <td>0.000000</td>\n",
       "      <td>0.000000</td>\n",
       "    </tr>\n",
       "    <tr>\n",
       "      <th>6603</th>\n",
       "      <td>0.012310</td>\n",
       "      <td>0.006248</td>\n",
       "      <td>0.009914</td>\n",
       "      <td>0.020045</td>\n",
       "      <td>0.007973</td>\n",
       "      <td>0.011604</td>\n",
       "      <td>0.000134</td>\n",
       "      <td>0.000000</td>\n",
       "      <td>0.000000</td>\n",
       "    </tr>\n",
       "    <tr>\n",
       "      <th>6604</th>\n",
       "      <td>0.012340</td>\n",
       "      <td>0.001273</td>\n",
       "      <td>0.009914</td>\n",
       "      <td>0.003341</td>\n",
       "      <td>0.016786</td>\n",
       "      <td>0.013476</td>\n",
       "      <td>0.000232</td>\n",
       "      <td>0.000000</td>\n",
       "      <td>0.000000</td>\n",
       "    </tr>\n",
       "    <tr>\n",
       "      <th>6605</th>\n",
       "      <td>0.012371</td>\n",
       "      <td>0.004050</td>\n",
       "      <td>0.011041</td>\n",
       "      <td>0.006682</td>\n",
       "      <td>0.013848</td>\n",
       "      <td>0.011604</td>\n",
       "      <td>0.000346</td>\n",
       "      <td>0.000000</td>\n",
       "      <td>0.000000</td>\n",
       "    </tr>\n",
       "    <tr>\n",
       "      <th>6606</th>\n",
       "      <td>0.012322</td>\n",
       "      <td>0.004050</td>\n",
       "      <td>0.011717</td>\n",
       "      <td>0.020045</td>\n",
       "      <td>0.009442</td>\n",
       "      <td>0.008984</td>\n",
       "      <td>0.000197</td>\n",
       "      <td>0.000000</td>\n",
       "      <td>0.000000</td>\n",
       "    </tr>\n",
       "    <tr>\n",
       "      <th>6607</th>\n",
       "      <td>0.012340</td>\n",
       "      <td>0.008215</td>\n",
       "      <td>0.013181</td>\n",
       "      <td>0.010023</td>\n",
       "      <td>0.007763</td>\n",
       "      <td>0.010481</td>\n",
       "      <td>0.000191</td>\n",
       "      <td>0.031373</td>\n",
       "      <td>0.020218</td>\n",
       "    </tr>\n",
       "    <tr>\n",
       "      <th>6608</th>\n",
       "      <td>0.012334</td>\n",
       "      <td>0.003008</td>\n",
       "      <td>0.009914</td>\n",
       "      <td>0.020045</td>\n",
       "      <td>0.009862</td>\n",
       "      <td>0.011979</td>\n",
       "      <td>0.000420</td>\n",
       "      <td>0.000000</td>\n",
       "      <td>0.000000</td>\n",
       "    </tr>\n",
       "    <tr>\n",
       "      <th>6609</th>\n",
       "      <td>0.012340</td>\n",
       "      <td>0.004050</td>\n",
       "      <td>0.009351</td>\n",
       "      <td>0.020045</td>\n",
       "      <td>0.008183</td>\n",
       "      <td>0.012353</td>\n",
       "      <td>0.000419</td>\n",
       "      <td>0.000000</td>\n",
       "      <td>0.005054</td>\n",
       "    </tr>\n",
       "  </tbody>\n",
       "</table>\n",
       "<p>6610 rows × 9 columns</p>\n",
       "</div>"
      ],
      "text/plain": [
       "          Year     Genre   Runtime    Rating  Metascore  IMDB rating  \\\n",
       "0     0.012371  0.000000  0.015322  0.000000   0.016996     0.014973   \n",
       "1     0.012334  0.000000  0.018251  0.000000   0.017415     0.014599   \n",
       "2     0.012261  0.000116  0.021856  0.000000   0.015737     0.014599   \n",
       "3     0.012371  0.000231  0.013970  0.000000   0.012380     0.013102   \n",
       "4     0.012353  0.000231  0.016110  0.000000   0.014478     0.015161   \n",
       "5     0.012383  0.000000  0.017124  0.000000   0.017835     0.013476   \n",
       "6     0.012328  0.000347  0.017124  0.000000   0.017625     0.016845   \n",
       "7     0.012377  0.000231  0.014984  0.000000   0.013639     0.014599   \n",
       "8     0.012383  0.000463  0.014533  0.000000   0.013639     0.013476   \n",
       "9     0.012377  0.000579  0.010928  0.003341   0.016156     0.013663   \n",
       "10    0.012273  0.000000  0.015322  0.000000   0.010701     0.012166   \n",
       "11    0.012371  0.000231  0.015885  0.000000   0.013848     0.013663   \n",
       "12    0.012353  0.000694  0.018476  0.006682   0.016366     0.015722   \n",
       "13    0.012304  0.000579  0.010477  0.003341   0.015737     0.013476   \n",
       "14    0.012169  0.000810  0.012956  0.003341   0.019094     0.014786   \n",
       "15    0.012359  0.000231  0.016448  0.000000   0.015947     0.014038   \n",
       "16    0.012316  0.000000  0.017012  0.000000   0.011121     0.013663   \n",
       "17    0.012340  0.000579  0.011604  0.003341   0.019304     0.015535   \n",
       "18    0.012383  0.000000  0.015885  0.000000   0.015947     0.014038   \n",
       "19    0.012359  0.000231  0.014646  0.000000   0.013009     0.013476   \n",
       "20    0.012377  0.000231  0.016561  0.000000   0.015737     0.014599   \n",
       "21    0.012353  0.000231  0.015998  0.000000   0.014268     0.013476   \n",
       "22    0.012383  0.000926  0.013407  0.006682   0.012170     0.013102   \n",
       "23    0.012291  0.000231  0.013632  0.000000   0.015317     0.013663   \n",
       "24    0.012236  0.001041  0.014308  0.000000   0.014268     0.015161   \n",
       "25    0.012334  0.000231  0.016899  0.006682   0.007344     0.011230   \n",
       "26    0.012359  0.000579  0.011491  0.003341   0.015527     0.014038   \n",
       "27    0.012383  0.000926  0.015322  0.000000   0.014058     0.014412   \n",
       "28    0.012347  0.001157  0.014646  0.000000   0.018255     0.015161   \n",
       "29    0.012297  0.000579  0.011266  0.003341   0.018884     0.015161   \n",
       "...        ...       ...       ...       ...        ...          ...   \n",
       "6580  0.012328  0.001273  0.011379  0.006682   0.008393     0.011604   \n",
       "6581  0.012383  0.001273  0.011041  0.020045   0.015107     0.010481   \n",
       "6582  0.012334  0.006248  0.010928  0.020045   0.009232     0.011979   \n",
       "6583  0.012297  0.029852  0.011041  0.000000   0.011960     0.012915   \n",
       "6584  0.012304  0.000116  0.011829  0.006682   0.009232     0.011417   \n",
       "6585  0.012273  0.046051  0.010590  0.000000   0.007134     0.011230   \n",
       "6586  0.012279  0.001273  0.011041  0.020045   0.014898     0.011979   \n",
       "6587  0.012359  0.000347  0.013294  0.010023   0.014688     0.013102   \n",
       "6588  0.012230  0.007637  0.009576  0.000000   0.017835     0.014038   \n",
       "6589  0.012322  0.046167  0.010139  0.020045   0.015947     0.014412   \n",
       "6590  0.012304  0.004050  0.009125  0.006682   0.008183     0.008423   \n",
       "6591  0.012297  0.006248  0.011266  0.000000   0.011750     0.012727   \n",
       "6592  0.012285  0.000347  0.011491  0.020045   0.011330     0.013102   \n",
       "6593  0.012359  0.000116  0.011717  0.020045   0.012380     0.011604   \n",
       "6594  0.012340  0.001273  0.011266  0.006682   0.013009     0.012353   \n",
       "6595  0.012310  0.004050  0.012055  0.020045   0.011330     0.012353   \n",
       "6596  0.012285  0.001273  0.012731  0.026727   0.012799     0.013663   \n",
       "6597  0.012340  0.003934  0.013519  0.020045   0.008813     0.010669   \n",
       "6598  0.012359  0.006364  0.009351  0.006682   0.000210     0.005428   \n",
       "6599  0.012328  0.003934  0.011266  0.000000   0.018465     0.013289   \n",
       "6600  0.012291  0.000116  0.010027  0.020045   0.013639     0.010481   \n",
       "6601  0.012365  0.000116  0.012167  0.026727   0.011750     0.011043   \n",
       "6602  0.012322  0.008215  0.010590  0.020045   0.011121     0.013663   \n",
       "6603  0.012310  0.006248  0.009914  0.020045   0.007973     0.011604   \n",
       "6604  0.012340  0.001273  0.009914  0.003341   0.016786     0.013476   \n",
       "6605  0.012371  0.004050  0.011041  0.006682   0.013848     0.011604   \n",
       "6606  0.012322  0.004050  0.011717  0.020045   0.009442     0.008984   \n",
       "6607  0.012340  0.008215  0.013181  0.010023   0.007763     0.010481   \n",
       "6608  0.012334  0.003008  0.009914  0.020045   0.009862     0.011979   \n",
       "6609  0.012340  0.004050  0.009351  0.020045   0.008183     0.012353   \n",
       "\n",
       "         Votes  numStarW  numStarN  \n",
       "0     0.054474  0.000000  0.000000  \n",
       "1     0.072483  0.000000  0.010109  \n",
       "2     0.066303  0.015686  0.010109  \n",
       "3     0.037406  0.000000  0.000000  \n",
       "4     0.081413  0.000000  0.020218  \n",
       "5     0.031751  0.000000  0.000000  \n",
       "6     0.142832  0.031373  0.025272  \n",
       "7     0.032972  0.000000  0.005054  \n",
       "8     0.016379  0.000000  0.000000  \n",
       "9     0.014752  0.000000  0.005054  \n",
       "10    0.045401  0.000000  0.005054  \n",
       "11    0.045023  0.000000  0.020218  \n",
       "12    0.096154  0.015686  0.010109  \n",
       "13    0.026467  0.000000  0.000000  \n",
       "14    0.023408  0.000000  0.000000  \n",
       "15    0.040035  0.031373  0.020218  \n",
       "16    0.042637  0.000000  0.015163  \n",
       "17    0.047169  0.031373  0.030327  \n",
       "18    0.033388  0.000000  0.000000  \n",
       "19    0.047499  0.015686  0.015163  \n",
       "20    0.039412  0.000000  0.010109  \n",
       "21    0.055385  0.000000  0.010109  \n",
       "22    0.016571  0.000000  0.000000  \n",
       "23    0.044378  0.000000  0.010109  \n",
       "24    0.054294  0.015686  0.005054  \n",
       "25    0.025418  0.000000  0.000000  \n",
       "26    0.035881  0.000000  0.000000  \n",
       "27    0.032343  0.000000  0.000000  \n",
       "28    0.047945  0.000000  0.000000  \n",
       "29    0.060151  0.000000  0.015163  \n",
       "...        ...       ...       ...  \n",
       "6580  0.000372  0.015686  0.005054  \n",
       "6581  0.000075  0.000000  0.015163  \n",
       "6582  0.000427  0.000000  0.000000  \n",
       "6583  0.000005  0.000000  0.000000  \n",
       "6584  0.000168  0.015686  0.010109  \n",
       "6585  0.000037  0.000000  0.010109  \n",
       "6586  0.000062  0.000000  0.000000  \n",
       "6587  0.000161  0.000000  0.000000  \n",
       "6588  0.000165  0.000000  0.000000  \n",
       "6589  0.000226  0.000000  0.000000  \n",
       "6590  0.000218  0.000000  0.000000  \n",
       "6591  0.000322  0.000000  0.000000  \n",
       "6592  0.000425  0.000000  0.000000  \n",
       "6593  0.000425  0.000000  0.020218  \n",
       "6594  0.000423  0.000000  0.000000  \n",
       "6595  0.000422  0.000000  0.005054  \n",
       "6596  0.000288  0.000000  0.000000  \n",
       "6597  0.000006  0.000000  0.000000  \n",
       "6598  0.000281  0.015686  0.000000  \n",
       "6599  0.000205  0.000000  0.000000  \n",
       "6600  0.000025  0.000000  0.000000  \n",
       "6601  0.000144  0.000000  0.005054  \n",
       "6602  0.000376  0.000000  0.000000  \n",
       "6603  0.000134  0.000000  0.000000  \n",
       "6604  0.000232  0.000000  0.000000  \n",
       "6605  0.000346  0.000000  0.000000  \n",
       "6606  0.000197  0.000000  0.000000  \n",
       "6607  0.000191  0.031373  0.020218  \n",
       "6608  0.000420  0.000000  0.000000  \n",
       "6609  0.000419  0.000000  0.005054  \n",
       "\n",
       "[6610 rows x 9 columns]"
      ]
     },
     "execution_count": 44,
     "metadata": {},
     "output_type": "execute_result"
    }
   ],
   "source": [
    "scaler = StandardScaler()\n",
    "scaler.fit(X_train)\n",
    "\n",
    "from sklearn.preprocessing import normalize\n",
    "\n",
    "X_train = scaler.transform(X_train)\n",
    "X_test = scaler.transform(X_test)\n",
    "y_norm = normalize(y,axis=0)\n",
    "yn =pd.DataFrame(columns=('Year','Genre','Runtime','Rating','Metascore','IMDB rating','Votes','numStarW','numStarN'),data=y_norm)\n",
    "yn"
   ]
  },
  {
   "cell_type": "markdown",
   "metadata": {},
   "source": [
    "After normalizing and standardizing the data, a principle component analysis (PCA) is performed to determine if any of the features can be dropped to reduce dimensions."
   ]
  },
  {
   "cell_type": "code",
   "execution_count": 45,
   "metadata": {},
   "outputs": [
    {
     "data": {
      "text/plain": [
       "(6610, 9)"
      ]
     },
     "execution_count": 45,
     "metadata": {},
     "output_type": "execute_result"
    }
   ],
   "source": [
    "pca = PCA()\n",
    "final = pca.fit_transform(y_norm)\n",
    "final.shape"
   ]
  },
  {
   "cell_type": "markdown",
   "metadata": {},
   "source": [
    "A plot of the PCA can be seen below. This shows that almost 95% of the data is contained in approximately 4 or 5 features."
   ]
  },
  {
   "cell_type": "code",
   "execution_count": 46,
   "metadata": {},
   "outputs": [
    {
     "data": {
      "image/png": "[encoded data removed]",
      "text/plain": [
       "<Figure size 432x288 with 1 Axes>"
      ]
     },
     "metadata": {
      "needs_background": "light"
     },
     "output_type": "display_data"
    }
   ],
   "source": [
    "pca.n_components_\n",
    "f=plt.figure()\n",
    "plt.plot(np.cumsum(pca.explained_variance_ratio_))\n",
    "plt.xlabel('Component Number')\n",
    "plt.ylabel('Cumulative Explained Variance')\n",
    "plt.title('PCA on 9 Features')\n",
    "plt.show()\n",
    "f.savefig('PCA.pdf', bbox_inches='tight')"
   ]
  },
  {
   "cell_type": "markdown",
   "metadata": {},
   "source": [
    "We only use 5 features as that is all that is needed to represent the data."
   ]
  },
  {
   "cell_type": "code",
   "execution_count": 47,
   "metadata": {},
   "outputs": [
    {
     "data": {
      "text/plain": [
       "5"
      ]
     },
     "execution_count": 47,
     "metadata": {},
     "output_type": "execute_result"
    }
   ],
   "source": [
    "pca = PCA(n_components=5)\n",
    "final = pca.fit_transform(y_norm)\n",
    "pca.n_components_"
   ]
  },
  {
   "cell_type": "markdown",
   "metadata": {},
   "source": [
    "The training and testing data is transformed to only contain the 5 features."
   ]
  },
  {
   "cell_type": "code",
   "execution_count": 48,
   "metadata": {},
   "outputs": [],
   "source": [
    "X_train = pca.transform(X_train)\n",
    "X_test = pca.transform(X_test)"
   ]
  },
  {
   "cell_type": "markdown",
   "metadata": {},
   "source": [
    "#### Generalized Linear Regression Model"
   ]
  },
  {
   "cell_type": "markdown",
   "metadata": {},
   "source": [
    "The code below fits the training data to a linear regression model by attempting to minimize error. The trained model is then used to predict how much money a movie makes with the testing data."
   ]
  },
  {
   "cell_type": "code",
   "execution_count": 49,
   "metadata": {},
   "outputs": [
    {
     "data": {
      "text/plain": [
       "array([[-0.53362982,  0.49425311, -0.50867769, -1.10049309,  0.0384184 ],\n",
       "       [-0.31187044,  1.35867555, -0.21832873,  0.36702259,  0.13711849],\n",
       "       [-0.84614143, -0.22271395,  0.84597354, -0.3246825 ,  0.08997548],\n",
       "       ...,\n",
       "       [-0.79305749, -0.11377385, -0.61176592, -0.87688552,  0.05234121],\n",
       "       [ 1.8864133 ,  0.5463242 , -0.39268497, -0.7212512 , -0.28625586],\n",
       "       [-1.03563745, -0.47948728, -1.23529692,  0.94219009,  0.0934671 ]])"
      ]
     },
     "execution_count": 49,
     "metadata": {},
     "output_type": "execute_result"
    }
   ],
   "source": [
    "linear = linear_model.LinearRegression()\n",
    "linear.fit(X_train, y_train)\n",
    "prediction = linear.predict(X_test)\n",
    "X_train"
   ]
  },
  {
   "cell_type": "markdown",
   "metadata": {},
   "source": [
    "The below code shows the percentage of correct predictions as we increase the bounds of the accuracy of the model. When the bounds are around +/- 100,000 dollars, the percentage of correct predictions is approximately 0%. When the bounds are at +/- 100,000,000 dollars, the percentage of correct predictions is approximately 90%."
   ]
  },
  {
   "cell_type": "code",
   "execution_count": 50,
   "metadata": {},
   "outputs": [
    {
     "name": "stderr",
     "output_type": "stream",
     "text": [
      "C:\\Users\\rylee\\Anaconda3\\lib\\site-packages\\ipykernel_launcher.py:1: FutureWarning: Method .as_matrix will be removed in a future version. Use .values instead.\n",
      "  \"\"\"Entry point for launching an IPython kernel.\n",
      "C:\\Users\\rylee\\Anaconda3\\lib\\site-packages\\ipykernel_launcher.py:14: RuntimeWarning: divide by zero encountered in longlong_scalars\n",
      "  \n"
     ]
    },
    {
     "data": {
      "image/png": "[encoded data removed]",
      "text/plain": [
       "<Figure size 432x288 with 1 Axes>"
      ]
     },
     "metadata": {
      "needs_background": "light"
     },
     "output_type": "display_data"
    }
   ],
   "source": [
    "testValues = y_test.as_matrix(columns = None)\n",
    "lists =[]\n",
    "numcorrect = []\n",
    "boundary = []\n",
    "i = 0\n",
    "correct = 0\n",
    "j = 0\n",
    "for j in range(100000, 100000000, 100000):\n",
    "    i = 0\n",
    "    correct = 0\n",
    "    for i in range(len(prediction)):\n",
    "        if -j <= (prediction[i] - testValues[i]) and (prediction[i] - testValues[i]) <= j:\n",
    "            correct += 1\n",
    "            lists.append(j/testValues[i])\n",
    "        i += 1\n",
    "    numcorrect.append(correct/i)\n",
    "    boundary.append(j)\n",
    "\n",
    "f=plt.figure()\n",
    "plt.plot(boundary, numcorrect)\n",
    "plt.xlabel('Boundary [$]')\n",
    "plt.ylabel('Accuracy of Model')\n",
    "plt.title('Linear Regression Model Accuracy as the Accuracy Boundary Increases')\n",
    "plt.show()\n",
    "f.savefig('Lin_Reg.pdf', bbox_inches='tight')"
   ]
  },
  {
   "cell_type": "markdown",
   "metadata": {},
   "source": [
    "#### Decision Tree Regression Model"
   ]
  },
  {
   "cell_type": "markdown",
   "metadata": {},
   "source": [
    "From the above graph, it can be seen that the linear regression model performs very badly for this data when trying to predict how much money a movie will earn at the box office. Another model will be used to see if an improvement can be made on the results. A decision tree will be used. The depth used will be 20. The deeper the tree, the more complex the decision rules and the fitter the model. In order to verify if it is overfit, the accuracy will be checked using test data (completely separate from the training data)."
   ]
  },
  {
   "cell_type": "markdown",
   "metadata": {},
   "source": [
    "The model is trained below using a depth of 20 which is plenty in order to represent the data non-linearity."
   ]
  },
  {
   "cell_type": "code",
   "execution_count": 51,
   "metadata": {},
   "outputs": [
    {
     "data": {
      "text/plain": [
       "DecisionTreeRegressor(criterion='mse', max_depth=20, max_features=None,\n",
       "           max_leaf_nodes=None, min_impurity_decrease=0.0,\n",
       "           min_impurity_split=None, min_samples_leaf=1,\n",
       "           min_samples_split=2, min_weight_fraction_leaf=0.0,\n",
       "           presort=False, random_state=1, splitter='best')"
      ]
     },
     "execution_count": 51,
     "metadata": {},
     "output_type": "execute_result"
    }
   ],
   "source": [
    "regr = DecisionTreeRegressor(max_depth=20, random_state=1)\n",
    "regr.fit(X_train, y_train)"
   ]
  },
  {
   "cell_type": "markdown",
   "metadata": {},
   "source": [
    "The test data is then applied to the trained model. The test data was not used for the training so the test data will be the first time the model sees them."
   ]
  },
  {
   "cell_type": "code",
   "execution_count": 52,
   "metadata": {},
   "outputs": [],
   "source": [
    "mlpprediction = regr.predict(X_test)"
   ]
  },
  {
   "cell_type": "markdown",
   "metadata": {},
   "source": [
    "Again plot the accuracy of the model as the boundary (predicted money made +/- the accuracy boundary) increases. It shows a better result than the linear regression model. Its seen that with a boundary of +/- $20,000,000, the decision tree model has an accuracy of approximately 50 percent while the linear regression model only has an accuracy of 30 percent. This is a large improvement and overfitting is not present as the test data performs very well."
   ]
  },
  {
   "cell_type": "code",
   "execution_count": 53,
   "metadata": {},
   "outputs": [
    {
     "name": "stderr",
     "output_type": "stream",
     "text": [
      "C:\\Users\\rylee\\Anaconda3\\lib\\site-packages\\ipykernel_launcher.py:1: FutureWarning: Method .as_matrix will be removed in a future version. Use .values instead.\n",
      "  \"\"\"Entry point for launching an IPython kernel.\n",
      "C:\\Users\\rylee\\Anaconda3\\lib\\site-packages\\ipykernel_launcher.py:14: RuntimeWarning: divide by zero encountered in longlong_scalars\n",
      "  \n"
     ]
    },
    {
     "data": {
      "image/png": "[encoded data removed]",
      "text/plain": [
       "<Figure size 432x288 with 1 Axes>"
      ]
     },
     "metadata": {
      "needs_background": "light"
     },
     "output_type": "display_data"
    }
   ],
   "source": [
    "testValues = y_test.as_matrix(columns = None)\n",
    "lists =[]\n",
    "numcorrect = []\n",
    "boundary = []\n",
    "i = 0\n",
    "correct = 0\n",
    "j = 0\n",
    "for j in range(100000, 100000000, 100000):\n",
    "    i = 0\n",
    "    correct = 0\n",
    "    for i in range(len(mlpprediction)):\n",
    "        if -j <= mlpprediction[i] - testValues[i] and (mlpprediction[i] - testValues[i]) <= j:\n",
    "            correct += 1\n",
    "            lists.append(j/testValues[i])\n",
    "        i += 1\n",
    "    numcorrect.append(correct/i)\n",
    "    boundary.append(j)\n",
    "\n",
    "f = plt.figure()\n",
    "plt.plot(boundary, numcorrect)\n",
    "plt.xlabel('Boundary [$]')\n",
    "plt.ylabel('Accuracy of Model')\n",
    "plt.title('Decision Tree Regression Model as the Accuracy Boundary Increases')\n",
    "plt.show()\n",
    "f.savefig('Dec_Tree.pdf', bbox_inches='tight')"
   ]
  },
  {
   "cell_type": "markdown",
   "metadata": {},
   "source": [
    "### Building Classification Model to Predict Oscar Wins"
   ]
  },
  {
   "cell_type": "markdown",
   "metadata": {},
   "source": [
    "The next criteria of success that will be tracked is whether a movie will win an Oscar. This model will be simpler in that there are a limited number of classes. Since the most Oscars won by by a movie (for acting, directing and best picture win only) is 6. The classes will be split into 6 classes (based on number of Oscar wins)."
   ]
  },
  {
   "cell_type": "markdown",
   "metadata": {},
   "source": [
    "The dependent variable is chosen to be the total number of Oscar wins in terms of acting, directing and best picture win (as these are seen as the most prestigious awards)."
   ]
  },
  {
   "cell_type": "code",
   "execution_count": 54,
   "metadata": {},
   "outputs": [],
   "source": [
    "X = df['Total Oscar Wins']\n",
    "y = df.drop('Name', axis = 1)\n",
    "y = y.drop('Director', axis=1)\n",
    "y = y.drop('Star1', axis=1)\n",
    "y = y.drop('Star2', axis=1)\n",
    "y = y.drop('Star3', axis=1)\n",
    "y = y.drop('Star4', axis=1)\n",
    "y = y.drop('Star5', axis=1)\n",
    "y = y.drop('Gross', axis=1)\n",
    "y = y.drop('Inflation adjusted', axis=1)\n",
    "y = y.drop('starWon', axis=1)\n",
    "y = y.drop('starNom', axis=1)\n",
    "y = y.drop('numMovieW', axis=1)\n",
    "y = y.drop('numMovieN', axis=1)\n",
    "y = y.drop('numOtherW', axis=1)\n",
    "y = y.drop('numOtherN', axis=1)\n",
    "y = y.drop('Total Oscar Wins', axis=1)"
   ]
  },
  {
   "cell_type": "markdown",
   "metadata": {},
   "source": [
    "The data is split between testing and training (80, 20 split)"
   ]
  },
  {
   "cell_type": "code",
   "execution_count": 55,
   "metadata": {},
   "outputs": [],
   "source": [
    "X_train, X_test, y_train, y_test = train_test_split(y, X, test_size=0.2, random_state=1)"
   ]
  },
  {
   "cell_type": "markdown",
   "metadata": {},
   "source": [
    "Once again the data is normalized/standardize in order to prevent any bias in weightings between features."
   ]
  },
  {
   "cell_type": "code",
   "execution_count": 56,
   "metadata": {},
   "outputs": [
    {
     "name": "stderr",
     "output_type": "stream",
     "text": [
      "C:\\Users\\rylee\\Anaconda3\\lib\\site-packages\\sklearn\\preprocessing\\data.py:625: DataConversionWarning: Data with input dtype int64, float64 were all converted to float64 by StandardScaler.\n",
      "  return self.partial_fit(X, y)\n",
      "C:\\Users\\rylee\\Anaconda3\\lib\\site-packages\\ipykernel_launcher.py:6: DataConversionWarning: Data with input dtype int64, float64 were all converted to float64 by StandardScaler.\n",
      "  \n",
      "C:\\Users\\rylee\\Anaconda3\\lib\\site-packages\\ipykernel_launcher.py:7: DataConversionWarning: Data with input dtype int64, float64 were all converted to float64 by StandardScaler.\n",
      "  import sys\n"
     ]
    }
   ],
   "source": [
    "scaler = StandardScaler()\n",
    "scaler.fit(X_train)\n",
    "\n",
    "from sklearn.preprocessing import normalize\n",
    "\n",
    "X_train = scaler.transform(X_train)\n",
    "X_test = scaler.transform(X_test)\n",
    "y_norm = normalize(y,axis=0)"
   ]
  },
  {
   "cell_type": "markdown",
   "metadata": {},
   "source": [
    "A principle component analysis is performed below where the normalized data is used to determine which features are most important"
   ]
  },
  {
   "cell_type": "code",
   "execution_count": 57,
   "metadata": {},
   "outputs": [
    {
     "data": {
      "text/plain": [
       "(6610, 9)"
      ]
     },
     "execution_count": 57,
     "metadata": {},
     "output_type": "execute_result"
    }
   ],
   "source": [
    "pca = PCA()\n",
    "final = pca.fit_transform(y_norm)\n",
    "final.shape"
   ]
  },
  {
   "cell_type": "markdown",
   "metadata": {},
   "source": [
    "The cdf for the PCA analysis can be seen below. It appears as though 95% of the covaraince is represented in only 5 features so the dimension of the data (number of features) will be reduced to 5."
   ]
  },
  {
   "cell_type": "code",
   "execution_count": 58,
   "metadata": {},
   "outputs": [
    {
     "data": {
      "image/png": "[encoded data removed]",
      "text/plain": [
       "<Figure size 432x288 with 1 Axes>"
      ]
     },
     "metadata": {
      "needs_background": "light"
     },
     "output_type": "display_data"
    }
   ],
   "source": [
    "pca.n_components_\n",
    "plt.plot(np.cumsum(pca.explained_variance_ratio_))\n",
    "plt.xlabel('Component Number')\n",
    "plt.ylabel('Cumulative Explained Variance')\n",
    "plt.title('PCA on 9 Features')\n",
    "plt.show()"
   ]
  },
  {
   "cell_type": "code",
   "execution_count": 59,
   "metadata": {},
   "outputs": [
    {
     "data": {
      "text/plain": [
       "5"
      ]
     },
     "execution_count": 59,
     "metadata": {},
     "output_type": "execute_result"
    }
   ],
   "source": [
    "pca = PCA(n_components=5)\n",
    "final = pca.fit_transform(y_norm)\n",
    "pca.n_components_"
   ]
  },
  {
   "cell_type": "markdown",
   "metadata": {},
   "source": [
    "The training and test data is then transformed to be only the 5 most important features"
   ]
  },
  {
   "cell_type": "code",
   "execution_count": 60,
   "metadata": {},
   "outputs": [],
   "source": [
    "X_train = pca.transform(X_train)\n",
    "X_test = pca.transform(X_test)"
   ]
  },
  {
   "cell_type": "markdown",
   "metadata": {},
   "source": [
    "#### Naive Bayes Classification Model"
   ]
  },
  {
   "cell_type": "markdown",
   "metadata": {},
   "source": [
    "The first classification model used is the Naive Bayes model. This model assumesn conditional independence between every pair of features given the value of the class variable. more specifically a Gaussian Naive Bayes model is used."
   ]
  },
  {
   "cell_type": "markdown",
   "metadata": {},
   "source": [
    "The code below is used to train the model with the training data. Then the prediction of Oscar wins is found for the test data to see how well the model works. The accuracy is found for the model to determine how well it classifys the data. It seems the classifier is really good at predicting Oscar wins but the confusion matrix will now be plotted."
   ]
  },
  {
   "cell_type": "code",
   "execution_count": 61,
   "metadata": {},
   "outputs": [
    {
     "name": "stdout",
     "output_type": "stream",
     "text": [
      "Accuracy: 0.9341906202723147\n"
     ]
    }
   ],
   "source": [
    "gnb = GaussianNB()\n",
    "gnb.fit(X_train, y_train)\n",
    "y_pred = gnb.predict(X_test)\n",
    "print(\"Accuracy:\",metrics.accuracy_score(y_test, y_pred))\n",
    "class_names = ('0 Oscars','1 Oscar','2 Oscars','3 Oscars','4 Oscars','5 Oscars', '6 Oscars','7 Oscars')"
   ]
  },
  {
   "cell_type": "markdown",
   "metadata": {},
   "source": [
    "The code below contains a function `plot_confusion_matrix` which takes in the predicted and actual labels for each movie and plots, in a visual way, how accurate each class was predicted  (function taken from https://scikit-learn.org/stable/auto_examples/model_selection/plot_confusion_matrix.html). The normalized and non-normalized plots can be seen for the Gaussian Naive Bayes model below. The accuracy is really good for predicting 0 Oscar wins but is very poor at predicting any Osars wins above 0. The data is very skewed with many movies that have 0 Oscar wins so the accuracy seen in the previous code block is not actually as good as it looks."
   ]
  },
  {
   "cell_type": "code",
   "execution_count": 62,
   "metadata": {},
   "outputs": [
    {
     "name": "stdout",
     "output_type": "stream",
     "text": [
      "Confusion matrix, without normalization\n",
      "[[1234   50    0]\n",
      " [  34    1    0]\n",
      " [   3    0    0]]\n",
      "Normalized confusion matrix\n",
      "[[0.96 0.04 0.  ]\n",
      " [0.97 0.03 0.  ]\n",
      " [1.   0.   0.  ]]\n"
     ]
    },
    {
     "data": {
      "text/plain": [
       "<matplotlib.axes._subplots.AxesSubplot at 0x2162c736cc0>"
      ]
     },
     "execution_count": 62,
     "metadata": {},
     "output_type": "execute_result"
    },
    {
     "data": {
      "image/png": "[encoded data removed]",
      "text/plain": [
       "<Figure size 432x288 with 2 Axes>"
      ]
     },
     "metadata": {
      "needs_background": "light"
     },
     "output_type": "display_data"
    },
    {
     "data": {
      "image/png": "[encoded data removed]",
      "text/plain": [
       "<Figure size 432x288 with 2 Axes>"
      ]
     },
     "metadata": {
      "needs_background": "light"
     },
     "output_type": "display_data"
    }
   ],
   "source": [
    "def plot_confusion_matrix(y_true, y_pred, classes, d,\n",
    "                          normalize=False,\n",
    "                          title=None,\n",
    "                          cmap=plt.cm.Blues):\n",
    "    if not title:\n",
    "        if normalize:\n",
    "            title = 'Normalized confusion matrix'\n",
    "        else:\n",
    "            title = 'Confusion matrix, without normalization'\n",
    "\n",
    "\n",
    "    cm = confusion_matrix(y_true, y_pred)\n",
    "\n",
    "    if normalize:\n",
    "        cm = cm.astype('float') / cm.sum(axis=1)[:, np.newaxis]\n",
    "        print(\"Normalized confusion matrix\")\n",
    "    else:\n",
    "        print('Confusion matrix, without normalization')\n",
    "\n",
    "    print(cm)\n",
    "    fig, ax = plt.subplots()\n",
    "    im = ax.imshow(cm, interpolation='nearest', cmap=cmap)\n",
    "    ax.figure.colorbar(im, ax=ax)\n",
    "    ax.set(xticks=np.arange(cm.shape[1]),\n",
    "           yticks=np.arange(cm.shape[0]),\n",
    "           xticklabels=classes, yticklabels=classes,\n",
    "           title=title,\n",
    "           ylabel='True label',\n",
    "           xlabel='Predicted label')\n",
    "\n",
    "    plt.setp(ax.get_xticklabels(), rotation=45, ha=\"right\",\n",
    "             rotation_mode=\"anchor\")\n",
    "\n",
    "    fmt = '.2f' if normalize else 'd'\n",
    "    thresh = cm.max() / 2.\n",
    "    for i in range(cm.shape[0]):\n",
    "        for j in range(cm.shape[1]):\n",
    "            ax.text(j, i, format(cm[i, j], fmt),\n",
    "                    ha=\"center\", va=\"center\",\n",
    "                    color=\"white\" if cm[i, j] > thresh else \"black\")\n",
    "    fig.tight_layout()\n",
    "    if d ==1:\n",
    "        fig.savefig('Bayes_norm.pdf')\n",
    "    elif d == 0:\n",
    "        fig.savefig('Bayes.pdf')\n",
    "    elif d == 2:\n",
    "        fig.savefig('SVM.pdf')\n",
    "    elif d == 3:\n",
    "        fig.savefig('SVM_norm.pdf')\n",
    "    return ax\n",
    "\n",
    "\n",
    "np.set_printoptions(precision=2)\n",
    "\n",
    "plot_confusion_matrix(y_test, y_pred, classes=class_names, d=0,\n",
    "                      title='Naive Bayes Confusion Matrix')\n",
    "\n",
    "plot_confusion_matrix(y_test, y_pred, classes=class_names, d=1, normalize=True,\n",
    "                      title='Naive Bayes Normalized Confusion Matrix')"
   ]
  },
  {
   "cell_type": "markdown",
   "metadata": {},
   "source": [
    "#### Support Vector Classification Model\n",
    "To see if we can improve on the previous results using a Naive Bayes model, a support vector machine is used. This model will be used to see if improvement can be made, specfically in non-linear classification. The kernel `rbf` is used since it is good at predicting non-linear boundaries and from the regression models, it appears as though the features show many non-linear relationships."
   ]
  },
  {
   "cell_type": "markdown",
   "metadata": {},
   "source": [
    "The code below creates an SVC model and fits it to the training data."
   ]
  },
  {
   "cell_type": "code",
   "execution_count": 63,
   "metadata": {},
   "outputs": [
    {
     "name": "stdout",
     "output_type": "stream",
     "text": [
      "[LibSVM]"
     ]
    },
    {
     "data": {
      "text/plain": [
       "SVC(C=100.0, cache_size=200, class_weight=None, coef0=0.0,\n",
       "  decision_function_shape='ovr', degree=3, gamma=0.001, kernel='rbf',\n",
       "  max_iter=-1, probability=False, random_state=1, shrinking=True,\n",
       "  tol=0.001, verbose=True)"
      ]
     },
     "execution_count": 63,
     "metadata": {},
     "output_type": "execute_result"
    }
   ],
   "source": [
    "clf = svm.SVC(gamma=0.001, C=100., random_state=1,verbose=True)\n",
    "clf.fit(X_train, y_train)"
   ]
  },
  {
   "cell_type": "markdown",
   "metadata": {},
   "source": [
    "The model is then tested with the test data to predict Oscar wins. Accuracy of the model is found to determine if there are improvements to the previous Naive Bayes model."
   ]
  },
  {
   "cell_type": "code",
   "execution_count": 64,
   "metadata": {},
   "outputs": [
    {
     "name": "stdout",
     "output_type": "stream",
     "text": [
      "Accuracy: 0.9712556732223904\n"
     ]
    }
   ],
   "source": [
    "y_pred = clf.predict(X_test)\n",
    "print(\"Accuracy:\",metrics.accuracy_score(y_test, y_pred))"
   ]
  },
  {
   "cell_type": "markdown",
   "metadata": {},
   "source": [
    "The accuracy is very high so to see how the results are spread, confusion matrices are then plotted."
   ]
  },
  {
   "cell_type": "code",
   "execution_count": 65,
   "metadata": {},
   "outputs": [
    {
     "name": "stdout",
     "output_type": "stream",
     "text": [
      "Confusion matrix, without normalization\n",
      "[[1284    0    0]\n",
      " [  35    0    0]\n",
      " [   3    0    0]]\n",
      "Normalized confusion matrix\n",
      "[[1. 0. 0.]\n",
      " [1. 0. 0.]\n",
      " [1. 0. 0.]]\n"
     ]
    },
    {
     "data": {
      "text/plain": [
       "<matplotlib.axes._subplots.AxesSubplot at 0x21630c2b630>"
      ]
     },
     "execution_count": 65,
     "metadata": {},
     "output_type": "execute_result"
    },
    {
     "data": {
      "image/png": "[encoded data removed]",
      "text/plain": [
       "<Figure size 432x288 with 2 Axes>"
      ]
     },
     "metadata": {
      "needs_background": "light"
     },
     "output_type": "display_data"
    },
    {
     "data": {
      "image/png": "[encoded data removed]",
      "text/plain": [
       "<Figure size 432x288 with 2 Axes>"
      ]
     },
     "metadata": {
      "needs_background": "light"
     },
     "output_type": "display_data"
    }
   ],
   "source": [
    "np.set_printoptions(precision=2)\n",
    "\n",
    "plot_confusion_matrix(y_test, y_pred, classes=class_names, d=2,\n",
    "                      title='SVM Confusion Matrix')\n",
    "\n",
    "plot_confusion_matrix(y_test, y_pred, classes=class_names, d=3, normalize=True,\n",
    "                      title='SVM Normalized Confusion Matrix')"
   ]
  },
  {
   "cell_type": "markdown",
   "metadata": {},
   "source": [
    "As seen above, the results are even worse than before; the SVM model only predicted movies would win 0 Oscars. This explains the high accuracy found above as most movies do not win an Oscar."
   ]
  },
  {
   "cell_type": "markdown",
   "metadata": {},
   "source": [
    "### Conclusion"
   ]
  },
  {
   "cell_type": "markdown",
   "metadata": {},
   "source": [
    "It was found that decision trees are very good in predicting how much money a movie will make. It does this due to the non-linearity in the spread of data. This non-linear relationship in the data means that a model such as a generalized linear regression model would produce poor results (which was seen previously).\n",
    "\n",
    "From these results classification models were then used to predict the number of Oscar wins. A simple Gaussian Naive Bayes model was used first because it is fast to train (only compare each data point features to the average of the class features) even though it is generally not a very good estimator (it assumes independent features which almost never occurs in real life). The accuracy was found to be high but the data is very skewed to 0 Oscar wins. So the accuracy is not as high as it appears for predicting movies that did win Oscars. An SVM model was then used due to the large non-linearities in the data. From the SVM model, it was seen that the accuracy was better than the Bayes model, however the skew to 0 Oscar wins is even more noticeable, as it didn't predict that any movies would win an Oscar. "
   ]
  }
 ],
 "metadata": {
  "kernelspec": {
   "display_name": "Python 3",
   "language": "python",
   "name": "python3"
  },
  "language_info": {
   "codemirror_mode": {
    "name": "ipython",
    "version": 3
   },
   "file_extension": ".py",
   "mimetype": "text/x-python",
   "name": "python",
   "nbconvert_exporter": "python",
   "pygments_lexer": "ipython3",
   "version": "3.7.1"
  }
 },
 "nbformat": 4,
 "nbformat_minor": 2
}
